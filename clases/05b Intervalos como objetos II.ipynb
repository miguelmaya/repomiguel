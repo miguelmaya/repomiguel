{
 "metadata": {
  "name": ""
 },
 "nbformat": 3,
 "nbformat_minor": 0,
 "worksheets": [
  {
   "cells": [
    {
     "cell_type": "code",
     "collapsed": false,
     "input": [
      "from intervalo import Intervalo"
     ],
     "language": "python",
     "metadata": {},
     "outputs": [],
     "prompt_number": 2
    },
    {
     "cell_type": "code",
     "collapsed": false,
     "input": [
      "Intervalo"
     ],
     "language": "python",
     "metadata": {},
     "outputs": [
      {
       "metadata": {},
       "output_type": "pyout",
       "prompt_number": 3,
       "text": [
        "intervalo.Intervalo"
       ]
      }
     ],
     "prompt_number": 3
    },
    {
     "cell_type": "code",
     "collapsed": false,
     "input": [
      "i = Intervalo(-1, 1)\n",
      "j = Intervalo(2, 3)\n",
      "i + j"
     ],
     "language": "python",
     "metadata": {},
     "outputs": [
      {
       "html": [
        "[1, 4]"
       ],
       "metadata": {},
       "output_type": "pyout",
       "prompt_number": 4,
       "text": [
        "Intervalo(1, 4)"
       ]
      }
     ],
     "prompt_number": 4
    },
    {
     "cell_type": "code",
     "collapsed": false,
     "input": [
      "Intervalo?"
     ],
     "language": "python",
     "metadata": {},
     "outputs": [],
     "prompt_number": 5
    },
    {
     "cell_type": "code",
     "collapsed": false,
     "input": [
      "%load intervalo.py"
     ],
     "language": "python",
     "metadata": {},
     "outputs": [],
     "prompt_number": 5
    },
    {
     "cell_type": "code",
     "collapsed": false,
     "input": [
      "class Intervalo(object):\n",
      "    def __init__(self, min, max=None):\n",
      "        \n",
      "        if max is None:\n",
      "            max = min\n",
      "        \n",
      "        self.min = min\n",
      "        self.max = max\n",
      "        \n",
      "        \n",
      "    def __repr__(self):\n",
      "        #return \"Intervalo(%s, %s)\" % (self.min, self.max)\n",
      "        return \"Intervalo({}, {})\".format(self.min, self.max)\n",
      "    \n",
      "    def __str__(self):\n",
      "        return \"[{}, {}]\".format(self.min, self.max)\n",
      "        \n",
      "    # Para el IPython notebook:\n",
      "    def _repr_html_(self):\n",
      "        return \"[{}, {}]\".format(self.min, self.max)\n",
      "    \n",
      "#     def _repr_latex_(self):\n",
      "#         return \"$[{}^{}]$\".format(self.min, self.max)\n",
      "\n",
      "    def __add__(self, otro):\n",
      "        return Intervalo(self.min + otro.min, self.max + otro.max)"
     ],
     "language": "python",
     "metadata": {},
     "outputs": []
    },
    {
     "cell_type": "code",
     "collapsed": false,
     "input": [],
     "language": "python",
     "metadata": {},
     "outputs": []
    }
   ],
   "metadata": {}
  }
 ]
}