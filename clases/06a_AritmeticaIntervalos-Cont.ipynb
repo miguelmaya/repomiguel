{
 "metadata": {
  "name": ""
 },
 "nbformat": 3,
 "nbformat_minor": 0,
 "worksheets": [
  {
   "cells": [
    {
     "cell_type": "heading",
     "level": 4,
     "metadata": {},
     "source": [
      "NOTA: Lo siguiente es algo \u00fatil en el contexto de reproducibilidad"
     ]
    },
    {
     "cell_type": "markdown",
     "metadata": {},
     "source": [
      "Para mantener una bit\u00e1cora consistente y reproducible uno necesita *saber* y *hacer saber* cierta informaci\u00f3n. En particular, nos interesa comunicar qu\u00e9 versiones de los distintos programas usamos. \n",
      "\n",
      "En IPython Notebook esto se logra instalando una librer\u00eda externa con el comando interno (*comandos m\u00e1gicos*) de `ipython`:\n",
      "\n",
      "    %install_ext http://raw.github.com/jrjohansson/version_information/master/version_information.py\n",
      "    \n",
      "y luego cargamos la utiler\u00eda:\n",
      "\n",
      "    %load_ext version_information\n",
      "    %version_information numpy, scipy, matplotlib, sympy\n",
      "    \n",
      "Lo que se muestra abajo es s\u00f3lo el resultado de cargar el paquete externo \n",
      "`version_information.py` en mi m\u00e1quina, ya que yo ya la hab\u00eda instalado."
     ]
    },
    {
     "cell_type": "code",
     "collapsed": false,
     "input": [
      "%load_ext version_information\n",
      "%version_information numpy, scipy, matplotlib, sympy"
     ],
     "language": "python",
     "metadata": {},
     "outputs": [
      {
       "html": [
        "<table><tr><th>Software</th><th>Version</th></tr><tr><td>Python</td><td>2.7.5 (default, May 30 2013, 12:12:44) [GCC 4.2.1 Compatible Apple LLVM 4.2 (clang-425.0.28)]</td></tr><tr><td>IPython</td><td>1.0.0</td></tr><tr><td>OS</td><td>posix [darwin]</td></tr><tr><td>numpy</td><td>1.7.1</td></tr><tr><td>scipy</td><td>0.12.0</td></tr><tr><td>matplotlib</td><td>1.2.1</td></tr><tr><td>sympy</td><td>0.7.3</td></tr><tr><td colspan='2'>Tue Aug 27 19:52:02 2013 CDT</td></tr></table>"
       ],
       "json": [
        "{ \"Software versions\" : [{ \"module\" : \"Python\", \"version\" : \"2.7.5 (default, May 30 2013, 12:12:44) [GCC 4.2.1 Compatible Apple LLVM 4.2 (clang-425.0.28)]\" }, { \"module\" : \"IPython\", \"version\" : \"1.0.0\" }, { \"module\" : \"OS\", \"version\" : \"posix [darwin]\" }, { \"module\" : \"numpy\", \"version\" : \"1.7.1\" }, { \"module\" : \"scipy\", \"version\" : \"0.12.0\" }, { \"module\" : \"matplotlib\", \"version\" : \"1.2.1\" }, { \"module\" : \"sympy\", \"version\" : \"0.7.3\" } ] }"
       ],
       "latex": [
        "\\begin{tabular}{|l|l|}\\hline\n",
        "{\\bf Software} & {\\bf Version} \\\\ \\hline\\hline\n",
        "Python & 2.7.5 (default, May 30 2013, 12:12:44) [GCC 4.2.1 Compatible Apple LLVM 4.2 (clang-425.0.28)] \\\\ \\hline\n",
        "IPython & 1.0.0 \\\\ \\hline\n",
        "OS & posix [darwin] \\\\ \\hline\n",
        "numpy & 1.7.1 \\\\ \\hline\n",
        "scipy & 0.12.0 \\\\ \\hline\n",
        "matplotlib & 1.2.1 \\\\ \\hline\n",
        "sympy & 0.7.3 \\\\ \\hline\n",
        "\\hline \\multicolumn{2}{|l|}{Tue Aug 27 19:52:02 2013 CDT} \\\\ \\hline\n",
        "\\end{tabular}\n"
       ],
       "metadata": {},
       "output_type": "pyout",
       "prompt_number": 1,
       "text": [
        "Software versions\n",
        "Python 2.7.5 (default, May 30 2013, 12:12:44) [GCC 4.2.1 Compatible Apple LLVM 4.2 (clang-425.0.28)]\n",
        "IPython 1.0.0\n",
        "OS posix [darwin]\n",
        "numpy 1.7.1\n",
        "scipy 0.12.0\n",
        "matplotlib 1.2.1\n",
        "sympy 0.7.3\n",
        "\n",
        "Tue Aug 27 19:52:02 2013 CDT"
       ]
      }
     ],
     "prompt_number": 1
    },
    {
     "cell_type": "markdown",
     "metadata": {},
     "source": [
      "Ahora, escribo el archivo que ya ten\u00edamos de la clase anterior (`intervalo.py`, al que por razones aparentes m\u00e1s abajo le cambi\u00e9 el nombre a `intervalo0.py`) para mantener presente \"hasta donde llegamos\" en clase."
     ]
    },
    {
     "cell_type": "code",
     "collapsed": false,
     "input": [
      "!cat intervalo0.py"
     ],
     "language": "python",
     "metadata": {},
     "outputs": [
      {
       "output_type": "stream",
       "stream": "stdout",
       "text": [
        "class Intervalo(object):\r\n",
        "    # Docstring\r\n",
        "    \"\"\"\r\n",
        "    Se define la clase 'Intervalo', y los m\\'etodos para la aritm\\'etica b\\'asica de intervalos, \r\n",
        "    es decir, suma, resta, multiplicaci\\'on y divisi\\'on. Se incluyen otras funciones\r\n",
        "    que ser\\'an \\'utiles.\r\n",
        "    \"\"\"\r\n",
        "    def __init__(self,lo,hi=None):\r\n",
        "        \"\"\" \r\n",
        "        Definimos las propiedades del objeto Intervalo a partir de sus bordes,\r\n",
        "        lo y hi, donde lo <= hi. En el caso en que el intervalo s\\'olo tenga\r\n",
        "        un n\\'umero, \\'este se interpreta como un intervalo 'delgado' o 'degenerado'.\r\n",
        "        \"\"\"\r\n",
        "        if hi is None:\r\n",
        "            hi = lo\r\n",
        "        \r\n",
        "        self.lo = lo\r\n",
        "        self.hi = hi\r\n",
        "        \r\n",
        "    def __repr__(self):\r\n",
        "        return \"Intervalo ({},{})\".format(self.lo,self.hi)\r\n",
        "    \r\n",
        "    def __str__(self):\r\n",
        "        # Esta funci\\'on sirve con 'print'\r\n",
        "        return \"[{},{}]\".format(self.lo,self.hi)\r\n",
        "\r\n",
        "    def _repr_html_(self):\r\n",
        "        return \"[{}, {}]\".format(self.lo, self.hi)\r\n",
        "    \r\n",
        "    def _repr_latex_(self):\r\n",
        "        return \"$[{}^{}]$\".format(self.lo, self.hi)\r\n",
        "\r\n",
        "    # Aqu\\'i vienen las operaciones aritm\\'eticas\r\n",
        "    def __add__(self, otro):\r\n",
        "        \"\"\"\r\n",
        "        Suma de intervalos\r\n",
        "        \"\"\"\r\n",
        "        return Intervalo(self.lo + otro.lo, self.hi + otro.hi)\r\n",
        "\r\n"
       ]
      }
     ],
     "prompt_number": 2
    },
    {
     "cell_type": "markdown",
     "metadata": {},
     "source": [
      "**NOTA**: En mi versi\u00f3n particular hice algunos cambios en la notaci\u00f3n, por ejemplo, el borde inferior \n",
      "lo identifico con `lo` y el superior con `hi`. Esto estuvo motivado por la discusi\u00f3n si 'min' y 'max' eran\n",
      "o no nombres que conven\u00edan. Tambi\u00e9n \"document\u00e9\" m\u00e1s el c\u00f3digo. Aqu\u00ed vale la pena recordar lo que dijo David, que uno **no** debe documentar cosas obvias, excepto *tal vez* si son porque uno est\u00e1 aprendi\u00e9ndolas.  "
     ]
    },
    {
     "cell_type": "markdown",
     "metadata": {},
     "source": [
      "Aqu\u00ed importamos la librer\u00eda `intervalo`"
     ]
    },
    {
     "cell_type": "code",
     "collapsed": false,
     "input": [
      "from intervalo0 import Intervalo"
     ],
     "language": "python",
     "metadata": {},
     "outputs": [],
     "prompt_number": 3
    },
    {
     "cell_type": "markdown",
     "metadata": {},
     "source": [
      "Como vimos en clases anteriores, un intervalo es un conjunto de n\u00fameros reales acotados:\n",
      "$$\n",
      "[x] = [\\underline{x}, \\overline{x}] = \\big\\{ x: \\underline{x}\\leq x \\leq \\overline{x} \\big\\}.\n",
      "$$\n",
      "\n",
      "La sutileza de que $\\underline{x} \\leq \\overline{x}$ la debemos imponer en nuestra definici\u00f3n de\n",
      "intervalo. Como est\u00e1n las cosas,\n",
      "    b = Intervalo(-1,-6)\n",
      "produce un intervalo *bien definido* **sin** que se cumpla la restricci\u00f3n del orden en los bordes."
     ]
    },
    {
     "cell_type": "code",
     "collapsed": false,
     "input": [
      "# Ojo, b tiene los l\\'imites invertidos en la definici\\'on, pero se reordenan!\n",
      "a = Intervalo(-1,-6)\n",
      "print a"
     ],
     "language": "python",
     "metadata": {},
     "outputs": [
      {
       "output_type": "stream",
       "stream": "stdout",
       "text": [
        "[-1,-6]\n"
       ]
      }
     ],
     "prompt_number": 4
    },
    {
     "cell_type": "markdown",
     "metadata": {},
     "source": [
      "Para corregir esto, es decir, que el l\u00edmite inferior sea menor o igual al superior, hay que agregar lo siguiente a la definici\u00f3n de Intervalo:\n",
      "\n",
      "    def __init__(self,lo,hi=None):\n",
      "        \"\"\" \n",
      "        Se define la clase 'Intervalo', y los m\\'etodos para la aritm\\'etica \n",
      "        b\\'asica de intervalos, es decir, suma, resta, multiplicaci\\'on y divisi\\'on. \n",
      "        Se incluyen otras funciones que ser\\'an \\'utiles.\n",
      "        \"\"\"\n",
      "\n",
      "        if hi is None:\n",
      "            hi = lo\n",
      "        elif (hi < lo):\n",
      "            lo, hi = hi, lo\n",
      "        \n",
      "        self.lo = lo\n",
      "        self.hi = hi\n",
      "\n",
      "Una vez hecho esto (lo que hago con un editor externo directamente en el archivo `intervalo1.py`), hay que actualizar la librer\u00eda:"
     ]
    },
    {
     "cell_type": "code",
     "collapsed": false,
     "input": [
      "!cat intervalo1.py"
     ],
     "language": "python",
     "metadata": {},
     "outputs": [
      {
       "output_type": "stream",
       "stream": "stdout",
       "text": [
        "class Intervalo(object):\r\n",
        "    # Docstring\r\n",
        "    \"\"\"\r\n",
        "    Se define la clase 'Intervalo', y los m\\'etodos para la aritm\\'etica b\\'asica de intervalos, \r\n",
        "    es decir, suma, resta, multiplicaci\\'on y divisi\\'on. Se incluyen otras funciones\r\n",
        "    que ser\\'an \\'utiles.\r\n",
        "    \"\"\"\r\n",
        "    def __init__(self,lo,hi=None):\r\n",
        "        \"\"\" \r\n",
        "        Definimos las propiedades del objeto Intervalo a partir de sus bordes,\r\n",
        "        lo y hi, donde lo <= hi. En el caso en que el intervalo s\\'olo tenga\r\n",
        "        un n\\'umero, \\'este se interpreta como un intervalo 'delgado' o 'degenerado'.\r\n",
        "        \"\"\"\r\n",
        "        if hi is None:\r\n",
        "            hi = lo\r\n",
        "        elif (hi < lo):\r\n",
        "            lo, hi = hi, lo\r\n",
        "        \r\n",
        "        self.lo = lo\r\n",
        "        self.hi = hi\r\n",
        "        \r\n",
        "    def __repr__(self):\r\n",
        "        return \"Intervalo ({},{})\".format(self.lo,self.hi)\r\n",
        "    \r\n",
        "    def __str__(self):\r\n",
        "        # Esta funci\\'on sirve con 'print'\r\n",
        "        return \"[{},{}]\".format(self.lo,self.hi)\r\n",
        "\r\n",
        "    def _repr_html_(self):\r\n",
        "        return \"[{}, {}]\".format(self.lo, self.hi)\r\n",
        "    \r\n",
        "    def _repr_latex_(self):\r\n",
        "        return \"$[{}^{}]$\".format(self.lo, self.hi)\r\n",
        "\r\n",
        "    # Aqu\\'i vienen las operaciones aritm\\'eticas\r\n",
        "    def __add__(self, otro):\r\n",
        "        \"\"\"\r\n",
        "        Suma de intervalos\r\n",
        "        \"\"\"\r\n",
        "        return Intervalo(self.lo + otro.lo, self.hi + otro.hi)\r\n"
       ]
      }
     ],
     "prompt_number": 5
    },
    {
     "cell_type": "code",
     "collapsed": false,
     "input": [
      "from intervalo1 import Intervalo"
     ],
     "language": "python",
     "metadata": {},
     "outputs": [],
     "prompt_number": 6
    },
    {
     "cell_type": "markdown",
     "metadata": {},
     "source": [
      "Y checamos que funcione...."
     ]
    },
    {
     "cell_type": "code",
     "collapsed": false,
     "input": [
      "a = Intervalo(-1,-6)\n",
      "b = Intervalo(-2,-3)\n",
      "print a, b"
     ],
     "language": "python",
     "metadata": {},
     "outputs": [
      {
       "output_type": "stream",
       "stream": "stdout",
       "text": [
        "[-6,-1] [-3,-2]\n"
       ]
      }
     ],
     "prompt_number": 7
    },
    {
     "cell_type": "markdown",
     "metadata": {},
     "source": [
      "Como ya hab\u00edamos visto, la suma funcionaba bien"
     ]
    },
    {
     "cell_type": "code",
     "collapsed": false,
     "input": [
      "a+b"
     ],
     "language": "python",
     "metadata": {},
     "outputs": [
      {
       "html": [
        "[-9, -3]"
       ],
       "latex": [
        "$[-9^-3]$"
       ],
       "metadata": {},
       "output_type": "pyout",
       "prompt_number": 8,
       "text": [
        "Intervalo (-9,-3)"
       ]
      }
     ],
     "prompt_number": 8
    },
    {
     "cell_type": "markdown",
     "metadata": {},
     "source": [
      "Nos gustar\u00eda que 'a+2.3' nos diera la suma del intervalo a m\u00e1s el intervalo degenerado [2.3], e incluso '2.3+a', pero...."
     ]
    },
    {
     "cell_type": "code",
     "collapsed": false,
     "input": [
      "a+2.3"
     ],
     "language": "python",
     "metadata": {},
     "outputs": [
      {
       "ename": "AttributeError",
       "evalue": "'float' object has no attribute 'lo'",
       "output_type": "pyerr",
       "traceback": [
        "\u001b[0;31m---------------------------------------------------------------------------\u001b[0m\n\u001b[0;31mAttributeError\u001b[0m                            Traceback (most recent call last)",
        "\u001b[0;32m<ipython-input-9-ed912c4de4be>\u001b[0m in \u001b[0;36m<module>\u001b[0;34m()\u001b[0m\n\u001b[0;32m----> 1\u001b[0;31m \u001b[0ma\u001b[0m\u001b[0;34m+\u001b[0m\u001b[0;36m2.3\u001b[0m\u001b[0;34m\u001b[0m\u001b[0m\n\u001b[0m",
        "\u001b[0;32m/Users/benet/Documents/4-Clases/43-ComputationalPhysics/2014-1/0-Clases/intervalo1.pyc\u001b[0m in \u001b[0;36m__add__\u001b[0;34m(self, otro)\u001b[0m\n\u001b[1;32m     38\u001b[0m         \u001b[0mSuma\u001b[0m \u001b[0mde\u001b[0m \u001b[0mintervalos\u001b[0m\u001b[0;34m\u001b[0m\u001b[0m\n\u001b[1;32m     39\u001b[0m         \"\"\"\n\u001b[0;32m---> 40\u001b[0;31m         \u001b[0;32mreturn\u001b[0m \u001b[0mIntervalo\u001b[0m\u001b[0;34m(\u001b[0m\u001b[0mself\u001b[0m\u001b[0;34m.\u001b[0m\u001b[0mlo\u001b[0m \u001b[0;34m+\u001b[0m \u001b[0motro\u001b[0m\u001b[0;34m.\u001b[0m\u001b[0mlo\u001b[0m\u001b[0;34m,\u001b[0m \u001b[0mself\u001b[0m\u001b[0;34m.\u001b[0m\u001b[0mhi\u001b[0m \u001b[0;34m+\u001b[0m \u001b[0motro\u001b[0m\u001b[0;34m.\u001b[0m\u001b[0mhi\u001b[0m\u001b[0;34m)\u001b[0m\u001b[0;34m\u001b[0m\u001b[0m\n\u001b[0m",
        "\u001b[0;31mAttributeError\u001b[0m: 'float' object has no attribute 'lo'"
       ]
      }
     ],
     "prompt_number": 9
    },
    {
     "cell_type": "code",
     "collapsed": false,
     "input": [
      "2.3+a"
     ],
     "language": "python",
     "metadata": {},
     "outputs": [
      {
       "ename": "TypeError",
       "evalue": "unsupported operand type(s) for +: 'float' and 'Intervalo'",
       "output_type": "pyerr",
       "traceback": [
        "\u001b[0;31m---------------------------------------------------------------------------\u001b[0m\n\u001b[0;31mTypeError\u001b[0m                                 Traceback (most recent call last)",
        "\u001b[0;32m<ipython-input-10-5685f9b93e2f>\u001b[0m in \u001b[0;36m<module>\u001b[0;34m()\u001b[0m\n\u001b[0;32m----> 1\u001b[0;31m \u001b[0;36m2.3\u001b[0m\u001b[0;34m+\u001b[0m\u001b[0ma\u001b[0m\u001b[0;34m\u001b[0m\u001b[0m\n\u001b[0m",
        "\u001b[0;31mTypeError\u001b[0m: unsupported operand type(s) for +: 'float' and 'Intervalo'"
       ]
      }
     ],
     "prompt_number": 10
    },
    {
     "cell_type": "markdown",
     "metadata": {},
     "source": [
      "Lo anterior da un error ya que no hemos definido c\u00f3mo hacer esta suma, que involucra a un objeto de la clase \n",
      "intervalo (con atributo 'lo' y 'hi'), con uno de la clase 'float' que no tiene estos atributos.\n",
      "\n",
      "Para eso, modificamos la definici\u00f3n de la operaci\u00f3n suma a:\n",
      "\n",
      "    def __add__(self, otro):\n",
      "        \"\"\"\n",
      "        Suma de intervalos\n",
      "        \"\"\"\n",
      "        if (not isinstance(otro, Intervalo)):\n",
      "            otro = Intervalo(otro)\n",
      "        return Intervalo( self.lo + otro.lo, self.hi + otro.hi )\n",
      "\n",
      "La instrucci\u00f3n importante es 'isinstance(otro,Intervalo)', que simplemente verifica que el objeto 'otro' sea un intervalo; el resultado es *True* o *False*.\n",
      "\n",
      "Una mejor soluci\u00f3n es:\n",
      "\n",
      "    def __add__(self, otro):\n",
      "        \"\"\"\n",
      "        Suma de intervalos\n",
      "        \"\"\"\n",
      "        try:\n",
      "            return Intervalo(self.lo + otro.lo, self.hi + otro.hi)\n",
      "        except:\n",
      "            return self + Intervalo(otro)\n",
      "\n",
      "El c\u00f3digo prueba si lo sabe hacer, y si no, lo intenta de otra manera espec\u00edfica.\n",
      "\n",
      "Para hacer la suma de un 'float' y un entero especificamos la funci\u00f3n `__radd__`, la suma con los argumentos \n",
      "reflejados:\n",
      "\n",
      "    def __radd__(self, otro):\n",
      "        return self + otro\n",
      "\n",
      "(Esto **no** es a prueba de todos los errores a\u00fan, pero es un buen principio.)\n",
      "\n",
      "El cambio descrito lo implement\u00e9 en 'intervalo2.py', y ahora vuelvo a cargar y correr intervalo.py"
     ]
    },
    {
     "cell_type": "code",
     "collapsed": false,
     "input": [
      "!cat intervalo2.py"
     ],
     "language": "python",
     "metadata": {},
     "outputs": [
      {
       "output_type": "stream",
       "stream": "stdout",
       "text": [
        "class Intervalo(object):\r\n",
        "    # Docstring\r\n",
        "    \"\"\"\r\n",
        "    Se define la clase 'Intervalo', y los m\\'etodos para la aritm\\'etica b\\'asica de intervalos, \r\n",
        "    es decir, suma, resta, multiplicaci\\'on y divisi\\'on. Se incluyen otras funciones\r\n",
        "    que ser\\'an \\'utiles.\r\n",
        "    \"\"\"\r\n",
        "    def __init__(self,lo,hi=None):\r\n",
        "        \"\"\" \r\n",
        "        Definimos las propiedades del objeto Intervalo a partir de sus bordes,\r\n",
        "        lo y hi, donde lo <= hi. En el caso en que el intervalo s\\'olo tenga\r\n",
        "        un n\\'umero, \\'este se interpreta como un intervalo 'delgado' o 'degenerado'.\r\n",
        "        \"\"\"\r\n",
        "        if hi is None:\r\n",
        "            hi = lo\r\n",
        "        elif (hi < lo):\r\n",
        "            lo, hi = hi, lo\r\n",
        "        \r\n",
        "        self.lo = lo\r\n",
        "        self.hi = hi\r\n",
        "        \r\n",
        "    def __repr__(self):\r\n",
        "        return \"Intervalo ({},{})\".format(self.lo,self.hi)\r\n",
        "    \r\n",
        "    def __str__(self):\r\n",
        "        # Esta funci\\'on sirve con 'print'\r\n",
        "        return \"[{},{}]\".format(self.lo,self.hi)\r\n",
        "\r\n",
        "    def _repr_html_(self):\r\n",
        "        return \"[{}, {}]\".format(self.lo, self.hi)\r\n",
        "    \r\n",
        "    def _repr_latex_(self):\r\n",
        "        return \"$[{}^{}]$\".format(self.lo, self.hi)\r\n",
        "\r\n",
        "    # Aqu\\'i vienen las operaciones aritm\\'eticas\r\n",
        "    def __add__(self, otro):\r\n",
        "        \"\"\"\r\n",
        "        Suma de intervalos\r\n",
        "        \"\"\"\r\n",
        "        try:\r\n",
        "            return Intervalo(self.lo + otro.lo, self.hi + otro.hi)\r\n",
        "        except:\r\n",
        "            return self + Intervalo(otro)\r\n",
        "\r\n",
        "    def __radd__(self, otro):\r\n",
        "        return self + otro\r\n",
        "\r\n"
       ]
      }
     ],
     "prompt_number": 11
    },
    {
     "cell_type": "code",
     "collapsed": false,
     "input": [
      "from intervalo2 import Intervalo"
     ],
     "language": "python",
     "metadata": {},
     "outputs": [],
     "prompt_number": 12
    },
    {
     "cell_type": "markdown",
     "metadata": {},
     "source": [
      "**NOTA** Haciendo las cosas as\u00ed, es decir, importando y sobreescribiendo 'Intervalo', hay que redefinir los intervalos creados antes, para actualizar sus atributos"
     ]
    },
    {
     "cell_type": "code",
     "collapsed": false,
     "input": [
      "a = Intervalo(-1,-6)\n",
      "b = Intervalo(-2,-3)"
     ],
     "language": "python",
     "metadata": {},
     "outputs": [],
     "prompt_number": 13
    },
    {
     "cell_type": "code",
     "collapsed": false,
     "input": [
      "a+2.3"
     ],
     "language": "python",
     "metadata": {},
     "outputs": [
      {
       "html": [
        "[-3.7, 1.3]"
       ],
       "latex": [
        "$[-3.7^1.3]$"
       ],
       "metadata": {},
       "output_type": "pyout",
       "prompt_number": 14,
       "text": [
        "Intervalo (-3.7,1.3)"
       ]
      }
     ],
     "prompt_number": 14
    },
    {
     "cell_type": "code",
     "collapsed": false,
     "input": [
      "2.3+a"
     ],
     "language": "python",
     "metadata": {},
     "outputs": [
      {
       "html": [
        "[-3.7, 1.3]"
       ],
       "latex": [
        "$[-3.7^1.3]$"
       ],
       "metadata": {},
       "output_type": "pyout",
       "prompt_number": 15,
       "text": [
        "Intervalo (-3.7,1.3)"
       ]
      }
     ],
     "prompt_number": 15
    },
    {
     "cell_type": "markdown",
     "metadata": {},
     "source": [
      "Vale la pena implementar otras operaciones, la resta, con `__sub__`, la negaci\u00f3n de intervalos (o restarle a cero el intervalo) con `__neg__`, la multiplicaci\u00f3n, la divisi\u00f3n, ...\n",
      "\n",
      "Esto lo hago por mi cuenta, ya que es parte de su tarea..."
     ]
    },
    {
     "cell_type": "code",
     "collapsed": false,
     "input": [
      "from intervalo_completo import Intervalo"
     ],
     "language": "python",
     "metadata": {},
     "outputs": [],
     "prompt_number": 16
    },
    {
     "cell_type": "code",
     "collapsed": false,
     "input": [
      "Intervalo"
     ],
     "language": "python",
     "metadata": {},
     "outputs": [
      {
       "metadata": {},
       "output_type": "pyout",
       "prompt_number": 18,
       "text": [
        "intervalo_completo.Intervalo"
       ]
      }
     ],
     "prompt_number": 18
    },
    {
     "cell_type": "code",
     "collapsed": false,
     "input": [
      "a = Intervalo(-1,-6)\n",
      "b = Intervalo(-2,3)"
     ],
     "language": "python",
     "metadata": {},
     "outputs": [],
     "prompt_number": 19
    },
    {
     "cell_type": "code",
     "collapsed": false,
     "input": [
      "a*2.3"
     ],
     "language": "python",
     "metadata": {},
     "outputs": [
      {
       "html": [
        "[-13.8, -2.3]"
       ],
       "latex": [
        "$[-13.8^-2.3]$"
       ],
       "metadata": {},
       "output_type": "pyout",
       "prompt_number": 20,
       "text": [
        "Intervalo (-13.8,-2.3)"
       ]
      }
     ],
     "prompt_number": 20
    },
    {
     "cell_type": "code",
     "collapsed": false,
     "input": [
      "2.3*a"
     ],
     "language": "python",
     "metadata": {},
     "outputs": [
      {
       "html": [
        "[-13.8, -2.3]"
       ],
       "latex": [
        "$[-13.8^-2.3]$"
       ],
       "metadata": {},
       "output_type": "pyout",
       "prompt_number": 21,
       "text": [
        "Intervalo (-13.8,-2.3)"
       ]
      }
     ],
     "prompt_number": 21
    },
    {
     "cell_type": "markdown",
     "metadata": {},
     "source": [
      "Aqu\u00ed haremos las pruebas de velocidad entre los dos posibles algoritmos discutidos en clase"
     ]
    },
    {
     "cell_type": "code",
     "collapsed": false,
     "input": [
      "%timeit a.mult1(b)"
     ],
     "language": "python",
     "metadata": {},
     "outputs": [
      {
       "output_type": "stream",
       "stream": "stdout",
       "text": [
        "100000 loops, best of 3: 3.22 \u00b5s per loop\n"
       ]
      }
     ],
     "prompt_number": 22
    },
    {
     "cell_type": "code",
     "collapsed": false,
     "input": [
      "%timeit a.mult2(b)"
     ],
     "language": "python",
     "metadata": {},
     "outputs": [
      {
       "output_type": "stream",
       "stream": "stdout",
       "text": [
        "100000 loops, best of 3: 2.99 \u00b5s per loop\n"
       ]
      }
     ],
     "prompt_number": 23
    },
    {
     "cell_type": "code",
     "collapsed": false,
     "input": [
      "%timeit b.mult1(b)"
     ],
     "language": "python",
     "metadata": {},
     "outputs": [
      {
       "output_type": "stream",
       "stream": "stdout",
       "text": [
        "100000 loops, best of 3: 3.04 \u00b5s per loop\n"
       ]
      }
     ],
     "prompt_number": 24
    },
    {
     "cell_type": "code",
     "collapsed": false,
     "input": [
      "%timeit b.mult2(b)"
     ],
     "language": "python",
     "metadata": {},
     "outputs": [
      {
       "output_type": "stream",
       "stream": "stdout",
       "text": [
        "100000 loops, best of 3: 4.45 \u00b5s per loop\n"
       ]
      }
     ],
     "prompt_number": 25
    },
    {
     "cell_type": "code",
     "collapsed": false,
     "input": [
      "b.contains(0)"
     ],
     "language": "python",
     "metadata": {},
     "outputs": [
      {
       "metadata": {},
       "output_type": "pyout",
       "prompt_number": 26,
       "text": [
        "True"
       ]
      }
     ],
     "prompt_number": 26
    },
    {
     "cell_type": "code",
     "collapsed": false,
     "input": [
      "Intervalo(2.3)/b"
     ],
     "language": "python",
     "metadata": {},
     "outputs": [
      {
       "ename": "ZeroDivisionError",
       "evalue": "Interval dividing by contains 0.",
       "output_type": "pyerr",
       "traceback": [
        "\u001b[0;31m---------------------------------------------------------------------------\u001b[0m\n\u001b[0;31mZeroDivisionError\u001b[0m                         Traceback (most recent call last)",
        "\u001b[0;32m<ipython-input-27-247295e33bcf>\u001b[0m in \u001b[0;36m<module>\u001b[0;34m()\u001b[0m\n\u001b[0;32m----> 1\u001b[0;31m \u001b[0mIntervalo\u001b[0m\u001b[0;34m(\u001b[0m\u001b[0;36m2.3\u001b[0m\u001b[0;34m)\u001b[0m\u001b[0;34m/\u001b[0m\u001b[0mb\u001b[0m\u001b[0;34m\u001b[0m\u001b[0m\n\u001b[0m",
        "\u001b[0;32m/Users/benet/Documents/4-Clases/43-ComputationalPhysics/2014-1/0-Clases/intervalo_completo.py\u001b[0m in \u001b[0;36m__div__\u001b[0;34m(self, otro)\u001b[0m\n\u001b[1;32m    111\u001b[0m             \u001b[0;32mreturn\u001b[0m \u001b[0mself\u001b[0m \u001b[0;34m*\u001b[0m \u001b[0motro\u001b[0m\u001b[0;34m.\u001b[0m\u001b[0mreciprocal\u001b[0m\u001b[0;34m(\u001b[0m\u001b[0;34m)\u001b[0m\u001b[0;34m\u001b[0m\u001b[0m\n\u001b[1;32m    112\u001b[0m         \u001b[0;32mexcept\u001b[0m\u001b[0;34m:\u001b[0m\u001b[0;34m\u001b[0m\u001b[0m\n\u001b[0;32m--> 113\u001b[0;31m             \u001b[0;32mraise\u001b[0m \u001b[0mZeroDivisionError\u001b[0m\u001b[0;34m(\u001b[0m\u001b[0;34m\"Interval dividing by contains 0.\"\u001b[0m\u001b[0;34m)\u001b[0m\u001b[0;34m\u001b[0m\u001b[0m\n\u001b[0m\u001b[1;32m    114\u001b[0m \u001b[0;34m\u001b[0m\u001b[0m\n\u001b[1;32m    115\u001b[0m     \u001b[0;32mdef\u001b[0m \u001b[0m__rdiv__\u001b[0m\u001b[0;34m(\u001b[0m\u001b[0mself\u001b[0m\u001b[0;34m,\u001b[0m \u001b[0motro\u001b[0m\u001b[0;34m)\u001b[0m\u001b[0;34m:\u001b[0m\u001b[0;34m\u001b[0m\u001b[0m\n",
        "\u001b[0;31mZeroDivisionError\u001b[0m: Interval dividing by contains 0."
       ]
      }
     ],
     "prompt_number": 27
    },
    {
     "cell_type": "code",
     "collapsed": false,
     "input": [
      "a/2.3"
     ],
     "language": "python",
     "metadata": {},
     "outputs": [
      {
       "html": [
        "[-2.60869565217, -0.434782608696]"
       ],
       "latex": [
        "$[-2.60869565217^-0.434782608696]$"
       ],
       "metadata": {},
       "output_type": "pyout",
       "prompt_number": 28,
       "text": [
        "Intervalo (-2.60869565217,-0.434782608696)"
       ]
      }
     ],
     "prompt_number": 28
    },
    {
     "cell_type": "code",
     "collapsed": false,
     "input": [
      "print a.lo/2.3, a.hi/2.3"
     ],
     "language": "python",
     "metadata": {},
     "outputs": [
      {
       "output_type": "stream",
       "stream": "stdout",
       "text": [
        "-2.60869565217 -0.434782608696\n"
       ]
      }
     ],
     "prompt_number": 29
    },
    {
     "cell_type": "code",
     "collapsed": false,
     "input": [
      "Intervalo(2.3)/a"
     ],
     "language": "python",
     "metadata": {},
     "outputs": [
      {
       "html": [
        "[-2.3, -0.383333333333]"
       ],
       "latex": [
        "$[-2.3^-0.383333333333]$"
       ],
       "metadata": {},
       "output_type": "pyout",
       "prompt_number": 30,
       "text": [
        "Intervalo (-2.3,-0.383333333333)"
       ]
      }
     ],
     "prompt_number": 30
    },
    {
     "cell_type": "code",
     "collapsed": false,
     "input": [
      "2.3/a"
     ],
     "language": "python",
     "metadata": {},
     "outputs": [
      {
       "html": [
        "[-2.3, -0.383333333333]"
       ],
       "latex": [
        "$[-2.3^-0.383333333333]$"
       ],
       "metadata": {},
       "output_type": "pyout",
       "prompt_number": 31,
       "text": [
        "Intervalo (-2.3,-0.383333333333)"
       ]
      }
     ],
     "prompt_number": 31
    },
    {
     "cell_type": "code",
     "collapsed": false,
     "input": [
      "M=Intervalo(14,15)\n",
      "print M"
     ],
     "language": "python",
     "metadata": {},
     "outputs": [
      {
       "output_type": "stream",
       "stream": "stdout",
       "text": [
        "[14,15]\n"
       ]
      }
     ],
     "prompt_number": 32
    },
    {
     "cell_type": "code",
     "collapsed": false,
     "input": [
      "res1=M/(Intervalo(1.)+M)\n",
      "print res1"
     ],
     "language": "python",
     "metadata": {},
     "outputs": [
      {
       "output_type": "stream",
       "stream": "stdout",
       "text": [
        "[0.875,1.0]\n"
       ]
      }
     ],
     "prompt_number": 33
    },
    {
     "cell_type": "code",
     "collapsed": false,
     "input": [
      "res2=Intervalo(1.0)/(Intervalo(1.0)+Intervalo(1.0)/M)\n",
      "print res2"
     ],
     "language": "python",
     "metadata": {},
     "outputs": [
      {
       "output_type": "stream",
       "stream": "stdout",
       "text": [
        "[0.933333333333,0.9375]\n"
       ]
      }
     ],
     "prompt_number": 34
    },
    {
     "cell_type": "code",
     "collapsed": false,
     "input": [
      "help(Intervalo)"
     ],
     "language": "python",
     "metadata": {},
     "outputs": [
      {
       "output_type": "stream",
       "stream": "stdout",
       "text": [
        "Help on class Intervalo in module intervalo_completo:\n",
        "\n",
        "class Intervalo(__builtin__.object)\n",
        " |  Se define la clase 'Intervalo', y la aritm'etica b'asica de intervalos, \n",
        " |  es decir, suma, resta, multiplicaci'on y divisi'on.\n",
        " |  \n",
        " |  Methods defined here:\n",
        " |  \n",
        " |  __add__(self, otro)\n",
        " |      Suma de intervalos\n",
        " |  \n",
        " |  __div__(self, otro)\n",
        " |      Divisi'on de intervalos: producto del primero por el rec'iproco del segundo\n",
        " |  \n",
        " |  __eq__(self, otro)\n",
        " |      Aqu'i se checa la igualdad de dos intervalos\n",
        " |  \n",
        " |  __init__(self, lo, hi=None)\n",
        " |      Se define la clase 'Intervalo', y los m'etodos para la aritm'etica \n",
        " |      b'asica de intervalos, es decir, suma, resta, multiplicaci'on y divisi'on. \n",
        " |      Se incluyen otras funciones que ser'an 'utiles.\n",
        " |  \n",
        " |  __mul__(self, otro)\n",
        " |      Se implementa la multiplicaci'on usando `multFast`\n",
        " |  \n",
        " |  __neg__(self)\n",
        " |      El negativo de un intervalo\n",
        " |  \n",
        " |  __neq__(self, otro)\n",
        " |      Aqu'i se checa la NO igualdad de dos intervalos\n",
        " |  \n",
        " |  __pow__(self, exponent)\n",
        " |  \n",
        " |  __radd__(self, otro)\n",
        " |  \n",
        " |  __rdiv__(self, otro)\n",
        " |  \n",
        " |  __repr__(self)\n",
        " |      # Lo siguiente sirve para dar informaci\\'on bonita del objeto `Intervalo`\n",
        " |  \n",
        " |  __rmul__(self, otro)\n",
        " |  \n",
        " |  __rsub__(self, otro)\n",
        " |  \n",
        " |  __str__(self)\n",
        " |  \n",
        " |  __sub__(self, otro)\n",
        " |      Resta de intervalos\n",
        " |  \n",
        " |  contains(self, x)\n",
        " |      Esto verifica si el intervalo contiene (o no) un n'umero real\n",
        " |  \n",
        " |  mult1(self, otro)\n",
        " |      Algor'itmo de la multiplicaci'on ingenuo\n",
        " |  \n",
        " |  mult2(self, otro)\n",
        " |      Algor'itmo de la multiplicaci'on que distingue los nueve casos posibles\n",
        " |  \n",
        " |  reciprocal(self)\n",
        " |      Esto define el rec'iproco de un intervalo\n",
        " |  \n",
        " |  ----------------------------------------------------------------------\n",
        " |  Data descriptors defined here:\n",
        " |  \n",
        " |  __dict__\n",
        " |      dictionary for instance variables (if defined)\n",
        " |  \n",
        " |  __weakref__\n",
        " |      list of weak references to the object (if defined)\n",
        "\n"
       ]
      }
     ],
     "prompt_number": 35
    },
    {
     "cell_type": "code",
     "collapsed": false,
     "input": [
      "type(a)"
     ],
     "language": "python",
     "metadata": {},
     "outputs": [
      {
       "metadata": {},
       "output_type": "pyout",
       "prompt_number": 36,
       "text": [
        "intervalo_completo.Intervalo"
       ]
      }
     ],
     "prompt_number": 36
    },
    {
     "cell_type": "code",
     "collapsed": false,
     "input": [],
     "language": "python",
     "metadata": {},
     "outputs": []
    }
   ],
   "metadata": {}
  }
 ]
}