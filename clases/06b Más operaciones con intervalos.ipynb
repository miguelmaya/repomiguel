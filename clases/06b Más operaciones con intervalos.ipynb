{
 "metadata": {
  "name": ""
 },
 "nbformat": 3,
 "nbformat_minor": 0,
 "worksheets": [
  {
   "cells": [
    {
     "cell_type": "markdown",
     "metadata": {},
     "source": [
      "Una extensi\u00f3n \u00fatil para la reproducibilidad:"
     ]
    },
    {
     "cell_type": "code",
     "collapsed": false,
     "input": [
      "%install_ext http://raw.github.com/jrjohansson/version_information/master/version_information.py"
     ],
     "language": "python",
     "metadata": {},
     "outputs": [
      {
       "output_type": "stream",
       "stream": "stdout",
       "text": [
        "Installed version_information.py. To use it, type:\n",
        "  %load_ext version_information\n"
       ]
      }
     ],
     "prompt_number": 2
    },
    {
     "cell_type": "code",
     "collapsed": false,
     "input": [
      "%load_ext version_information"
     ],
     "language": "python",
     "metadata": {},
     "outputs": [],
     "prompt_number": 3
    },
    {
     "cell_type": "code",
     "collapsed": false,
     "input": [
      "%version_information numpy, scipy, matplotlib, numpy"
     ],
     "language": "python",
     "metadata": {},
     "outputs": [
      {
       "html": [
        "<table><tr><th>Software</th><th>Version</th></tr><tr><td>Python</td><td>2.7.5 (default, Jul 16 2013, 20:47:10) [GCC 4.2.1 Compatible Apple LLVM 4.2 (clang-425.0.28)]</td></tr><tr><td>IPython</td><td>2.0.0-dev</td></tr><tr><td>OS</td><td>posix [darwin]</td></tr><tr><td>numpy</td><td>1.7.1</td></tr><tr><td>scipy</td><td>0.12.0</td></tr><tr><td>matplotlib</td><td>1.4.x</td></tr><tr><td>numpy</td><td>1.7.1</td></tr><tr><td colspan='2'>Tue Aug 27 09:56:14 2013 CDT</td></tr></table>"
       ],
       "json": [
        "{ \"Software versions\" : [{ \"module\" : \"Python\", \"version\" : \"2.7.5 (default, Jul 16 2013, 20:47:10) [GCC 4.2.1 Compatible Apple LLVM 4.2 (clang-425.0.28)]\" }, { \"module\" : \"IPython\", \"version\" : \"2.0.0-dev\" }, { \"module\" : \"OS\", \"version\" : \"posix [darwin]\" }, { \"module\" : \"numpy\", \"version\" : \"1.7.1\" }, { \"module\" : \"scipy\", \"version\" : \"0.12.0\" }, { \"module\" : \"matplotlib\", \"version\" : \"1.4.x\" }, { \"module\" : \"numpy\", \"version\" : \"1.7.1\" } ] }"
       ],
       "latex": [
        "\\begin{tabular}{|l|l|}\\hline\n",
        "{\\bf Software} & {\\bf Version} \\\\ \\hline\\hline\n",
        "Python & 2.7.5 (default, Jul 16 2013, 20:47:10) [GCC 4.2.1 Compatible Apple LLVM 4.2 (clang-425.0.28)] \\\\ \\hline\n",
        "IPython & 2.0.0-dev \\\\ \\hline\n",
        "OS & posix [darwin] \\\\ \\hline\n",
        "numpy & 1.7.1 \\\\ \\hline\n",
        "scipy & 0.12.0 \\\\ \\hline\n",
        "matplotlib & 1.4.x \\\\ \\hline\n",
        "numpy & 1.7.1 \\\\ \\hline\n",
        "\\hline \\multicolumn{2}{|l|}{Tue Aug 27 09:56:14 2013 CDT} \\\\ \\hline\n",
        "\\end{tabular}\n"
       ],
       "metadata": {},
       "output_type": "pyout",
       "prompt_number": 4,
       "text": [
        "Software versions\n",
        "Python 2.7.5 (default, Jul 16 2013, 20:47:10) [GCC 4.2.1 Compatible Apple LLVM 4.2 (clang-425.0.28)]\n",
        "IPython 2.0.0-dev\n",
        "OS posix [darwin]\n",
        "numpy 1.7.1\n",
        "scipy 0.12.0\n",
        "matplotlib 1.4.x\n",
        "numpy 1.7.1\n",
        "\n",
        "Tue Aug 27 09:56:14 2013 CDT"
       ]
      }
     ],
     "prompt_number": 4
    },
    {
     "cell_type": "heading",
     "level": 1,
     "metadata": {},
     "source": [
      "M\u00e1s intervalos"
     ]
    },
    {
     "cell_type": "markdown",
     "metadata": {},
     "source": [
      "Interpretaci\u00f3n geom\u00e9trica de intervalo:\n",
      "\n",
      "$$[a] = [\\underline{a}, \\overline{a}] \\mapsto\n",
      "(\\underline{a}, \\overline{a}) \\in \\mathbb{R}^2$$"
     ]
    },
    {
     "cell_type": "markdown",
     "metadata": {},
     "source": [
      "$$\n",
      "\\newcommand{\\ul}[1]{\\underline{#1}}\n",
      "\\newcommand{\\ol}[1]{\\overline{#1}}\n",
      "%\n",
      "[a] \\cdot [b] = [\\min(\\ul{a} \\ul{b}, \\ul{a} \\ol{b}, \\ol{a} \\ul{b}, \\ol{a} \\ol{b}]$$"
     ]
    },
    {
     "cell_type": "markdown",
     "metadata": {},
     "source": [
      "Interpretaci\u00f3n geom\u00e9trica de multiplicaci\u00f3n: considerar rect\u00e1ngulos correspondientes. Se ve que s\u00f3lo hay un caso en el cual hay que hacer el `max` y el `min`"
     ]
    },
    {
     "cell_type": "code",
     "collapsed": false,
     "input": [
      "from intervalo_completo import Intervalo"
     ],
     "language": "python",
     "metadata": {},
     "outputs": [],
     "prompt_number": 2
    },
    {
     "cell_type": "code",
     "collapsed": false,
     "input": [
      "M = Intervalo(14, 15)"
     ],
     "language": "python",
     "metadata": {},
     "outputs": [],
     "prompt_number": 3
    },
    {
     "cell_type": "code",
     "collapsed": false,
     "input": [
      "M / (1.0 + M)"
     ],
     "language": "python",
     "metadata": {},
     "outputs": [
      {
       "html": [
        "[0.875, 1.0]"
       ],
       "latex": [
        "$[0.875, 1.0]$"
       ],
       "metadata": {},
       "output_type": "pyout",
       "prompt_number": 4,
       "text": [
        "Intervalo(0.875, 1.0)"
       ]
      }
     ],
     "prompt_number": 4
    },
    {
     "cell_type": "markdown",
     "metadata": {},
     "source": [
      "Factoricemos la `M` en la expresi\u00f3n:"
     ]
    },
    {
     "cell_type": "code",
     "collapsed": false,
     "input": [
      "Intervalo(1.0) / (1.0 + Intervalo(1.0) / M)"
     ],
     "language": "python",
     "metadata": {},
     "outputs": [
      {
       "html": [
        "[0.933333333333, 0.9375]"
       ],
       "latex": [
        "$[0.933333333333, 0.9375]$"
       ],
       "metadata": {},
       "output_type": "pyout",
       "prompt_number": 5,
       "text": [
        "Intervalo(0.933333333333, 0.9375)"
       ]
      }
     ],
     "prompt_number": 5
    },
    {
     "cell_type": "markdown",
     "metadata": {},
     "source": [
      "Las respuestas son diferentes! De hecho, el segundo est\u00e1 contenido completamente en el primero.\n",
      "\n",
      "Hacer aritm\u00e9tica con intervalos *no* es lo mismo que hacer aritm\u00e9tica con reales."
     ]
    },
    {
     "cell_type": "heading",
     "level": 2,
     "metadata": {},
     "source": [
      "M\u00e1s definiciones para intervalos:"
     ]
    },
    {
     "cell_type": "markdown",
     "metadata": {},
     "source": [
      "**Anchura**:\n",
      "\n",
      "$$w([x]) := \\ol{x} - \\ul{x}$$\n",
      "\n",
      "**Valor absoluto**:\n",
      "$$ \\left| [x] \\right| := \\max \\left( |\\ul{x}|, |\\ol{x}| \\right)$$\n",
      "\n",
      "Dado que $x \\in [x]$, tenemos\n",
      "$$ |x| \\leq |[x]| $$\n",
      "\n",
      "**Punto medio**:\n",
      "$$ m([x]) := \\textstyle \\frac{1}{2} (\\ul{x} + \\ol{x}) $$\n",
      "\n",
      "Entonces cualquier intervalo se puede escribir como\n",
      "$$[x] = m([x]) + \\textstyle \\frac{1}{2} w([x]) \\cdot [-1, 1]\n",
      "= [m([x]) - r([x]), m([x]) + r([x]) ],$$\n",
      "donde\n",
      "$$r([x]) := \\textstyle \\frac{1}{2} w([x])$$\n",
      "es el **radio** del intervalo.\n",
      "\n"
     ]
    },
    {
     "cell_type": "markdown",
     "metadata": {},
     "source": [
      "**Comparaciones**:\n",
      "\n",
      "Ahora, si tenemos dos intervalos $[x]$ y $[y]$, tal que $\\ol{x} < \\ul{y}$, entonces decimos que $[x] < [y]$.\n",
      "\n",
      "Dado que $0 \\in [0, 0]$, y si $\\ul{x} > 0$ entonces podemos escribir $[x] > 0$.\n",
      "\n",
      "Pero $[-2, 3]$ no es ni mayor, ni menor que $0$; por lo tanto, es un ordenamiento parcial (no completo)."
     ]
    },
    {
     "cell_type": "code",
     "collapsed": false,
     "input": [],
     "language": "python",
     "metadata": {},
     "outputs": []
    }
   ],
   "metadata": {}
  }
 ]
}