{
 "metadata": {
  "name": ""
 },
 "nbformat": 3,
 "nbformat_minor": 0,
 "worksheets": [
  {
   "cells": [
    {
     "cell_type": "heading",
     "level": 1,
     "metadata": {},
     "source": [
      "Funciones"
     ]
    },
    {
     "cell_type": "markdown",
     "metadata": {},
     "source": [
      "Hasta ahora, hemos definido intervalos\n",
      "$$%\n",
      "\\newcommand{\\ul}[1]{\\underline{#1}}\n",
      "\\newcommand{\\ol}[1]{\\overline{#1}}\n",
      "[a] = [\\ul{a}, \\ol{a}] = \\{a \\in \\mathbb{R}: \\ul{a} \\le a \\le \\ol{a} \\}\n",
      "$$\n",
      "y operaciones matem\u00e1ticas sobre ellos.\n"
     ]
    },
    {
     "cell_type": "markdown",
     "metadata": {},
     "source": [
      "La meta es el poder definir *funciones* $f([a])$.\n",
      "Para esto, necesitamos extender la aritm\u00e9tica para incluir casos cuando $0 \\in [b]$.\n",
      "El precio a pagar es que la definici\u00f3n que ten\u00edamos de intervalo debe cambiar."
     ]
    },
    {
     "cell_type": "markdown",
     "metadata": {},
     "source": [
      "Por ejemplo, ten\u00edamos\n",
      "$$[a] \\div [b] := \\{ c = \\textstyle \\frac{a}{b}: a \\in [a], b\\in[b] \\text{ y } 0 \\notin [b] \\}$$"
     ]
    },
    {
     "cell_type": "markdown",
     "metadata": {},
     "source": [
      "Por ejemplo, si $[a] = [1,2]$ y $[b] = [-3, 5]$, entonces quisi\u00e9ramos poner\n",
      "$$\\newcommand{\\textfrac}{\\textstyle \\frac}\n",
      "[a] \\div [b] = [a] \\times [\\textfrac{1}{5}, -\\textfrac{1}{3}]$$\n",
      "pero evidentemente no tiene sentido."
     ]
    },
    {
     "cell_type": "markdown",
     "metadata": {},
     "source": [
      "Por lo tanto, hay operaciones con intervalos que no nos dan de regreso intervalos --el conjunto de intervalos como lo hemos definido *no* est\u00e1 cerrado bajo las operaciones matem\u00e1ticas.\n"
     ]
    },
    {
     "cell_type": "heading",
     "level": 2,
     "metadata": {},
     "source": [
      "Intervalos extendidos"
     ]
    },
    {
     "cell_type": "markdown",
     "metadata": {},
     "source": [
      "Lo anterior nos lleva a definir **intervalos extendidos**. Debemos incluir, en particular, la noci\u00f3n de *infinito*: queremos"
     ]
    },
    {
     "cell_type": "markdown",
     "metadata": {},
     "source": [
      "$$[a] \\div [b] := \\{c: b \\, c = a, a \\in [a], b \\in [b] \\}$$"
     ]
    },
    {
     "cell_type": "markdown",
     "metadata": {},
     "source": [
      "**Nueva definici\u00f3n de intervalos** (para cuando los l\u00edmites est\u00e1n al rev\u00e9s):\n",
      "$$[a] := \\{ a \\in \\mathbb{R}: \\ul{a} \\le a \\mathrm{\\ \\textbf{o}\\ } \\ol{a} \\ge a \\}$$\n",
      "\n",
      "Con esta definici\u00f3n, tenemos\n",
      "$$[\\textfrac{1}{5}, -\\textfrac{1}{3}] = (-\\infty, -\\textfrac{1}{3}] \\cup [\\textfrac{1}{5}, \\infty)$$\n",
      "    "
     ]
    },
    {
     "cell_type": "markdown",
     "metadata": {},
     "source": [
      "Para incluir $\\infty$:"
     ]
    },
    {
     "cell_type": "markdown",
     "metadata": {},
     "source": [
      "**Extensi\u00f3n proyectiva** (Tucker: la \"buena\"):\n",
      "\n",
      "Pensemos en n\u00fameros reales.\n",
      "Pongamos un c\u00edrculo unitario sobre el origen, y asociar un punto real con su proyecci\u00f3n (esterogr\u00e1fica) en el c\u00edrculo.\n",
      "El polo norte queda asociado a $\\infty$ (sin signo)."
     ]
    },
    {
     "cell_type": "markdown",
     "metadata": {},
     "source": [
      "En este caso, tenemos\n",
      "$$-(\\infty) = \\infty; \\qquad x.\\infty = \\infty \\quad \\text{si } x \\neq 0$$\n",
      "$$\\textfrac{x}{0} = \\infty; \\quad \\textfrac{x}{\\infty} = 0 \\text{ si } x \\neq 0$$\n",
      "Pero,\n",
      "$0/0$, $\\infty.0$, $\\infty/\\infty$, $\\infty.\\infty$ *no* est\u00e1n definidos"
     ]
    },
    {
     "cell_type": "markdown",
     "metadata": {},
     "source": [
      "Entonces\n",
      "$$[1,2] \\div [-3,5] = \\{x: x \\leq -\\textfrac{1}{3}\\} \\cup \\{x \\ge \\textfrac{1}{5} \\} \\cup \\{ \\infty \\}$$"
     ]
    },
    {
     "cell_type": "markdown",
     "metadata": {},
     "source": [
      "**Extensi\u00f3n af\u00edn** (Tucker: la \"mala\"): $\\newcommand{\\RR}{\\mathbb{R}} \\newcommand{\\RRext}{\\ol{\\RR}} \\RRext$\n",
      "\n",
      "En esta versi\u00f3n, incluimos $\\pm \\infty$, as\u00ed que podemos tener un intervalo compacto $[-\\infty, +\\infty]$, y definimos las operaciones aritm\u00e9ticas que involucren estos nuevos elementos como sigue:"
     ]
    },
    {
     "cell_type": "markdown",
     "metadata": {},
     "source": [
      "$$-(+\\infty) = -\\infty; \\quad -(-\\infty) = +\\infty$$\n",
      "$$x + (-\\infty) = -\\infty, \\quad x \\neq +\\infty$$\n",
      "etc."
     ]
    },
    {
     "cell_type": "markdown",
     "metadata": {},
     "source": [
      "Pero no est\u00e1n definidos $(+\\infty) - (+\\infty)$, $\\quad$ $x / 0$, etc."
     ]
    },
    {
     "cell_type": "markdown",
     "metadata": {},
     "source": [
      "Denotamos el conjunto de intervalos por $\\newcommand{IR}{\\mathbb{IR}} \\IR$ y el conjunto de intervalos extendidos por\n",
      "$\\newcommand{IRext}{\\ol{\\IR}}$ \n",
      "$$\\IRext := \\{[\\ul{a}, \\ol{a}]: \\ul{a} \\leq \\ol{a}, \\ul{a}, \\ol{a} \\in \\RRext \\}$$\n",
      "As\u00ed, $\\IRext$ incluye $[-\\infty, \\ol{a}]$, $[\\ul{a}, +\\infty]$ y $[-\\infty, +\\infty]$"
     ]
    },
    {
     "cell_type": "markdown",
     "metadata": {},
     "source": [
      "**Extensi\u00f3n \"fea\"** (Tucker):\n",
      "\n",
      "Inventado por ingenieros: incluir $0$ con signo, tal que\n",
      "$$\\textfrac{1}{\\infty} = +0; \\quad \\textfrac{1}{-\\infty} = -0$$\n",
      "$$\\textfrac{x}{\\pm 0} = \\mathrm{signo}(x).(\\pm \\infty), \\quad x \\neq \\pm 0$$\n",
      "\n",
      "Pero tiene el problema de que $x + (-x)$ no est\u00e1 definido!\n",
      "La soluci\u00f3n es redondear.\n",
      "\n",
      "\u00c9ste es el bueno (el que se deber\u00eda utilizar)!"
     ]
    },
    {
     "cell_type": "markdown",
     "metadata": {},
     "source": [
      "**Divisi\u00f3n**:\n",
      "\n",
      "La divisi\u00f3n de intervalos extendidos la definimos sobre $\\RRext$ equipada con $0$s con signo:\n",
      "\n",
      "$$[a] \\div [b] := \n",
      "\\begin{cases} \n",
      "[a] \\times \\left[ \\textfrac{1}{\\ol{b}}, \\textfrac{1}{\\ul{b}} \\right], & \\text{si } 0 \\notin [b] \\\\\n",
      "[-\\infty, +\\infty], & \\text{si } 0 \\in [a], 0 \\in [b] \\\\\n",
      "%[\\textfrac{\\ol{a}}{\\ol{b}}, +\\infty], & \\text{si } \\ol{a} < 0 \\text{ y } \\ul{b} < \\ol{b}\n",
      "\\end{cases}\n",
      "$$\n",
      "etc..."
     ]
    },
    {
     "cell_type": "heading",
     "level": 2,
     "metadata": {},
     "source": [
      "Implementaci\u00f3n en Python de infinito:"
     ]
    },
    {
     "cell_type": "markdown",
     "metadata": {},
     "source": [
      "En Python, $\\pm \\infty$ est\u00e1n implementados as\u00ed:"
     ]
    },
    {
     "cell_type": "code",
     "collapsed": false,
     "input": [
      "float(\"inf\")"
     ],
     "language": "python",
     "metadata": {},
     "outputs": [
      {
       "metadata": {},
       "output_type": "pyout",
       "prompt_number": 1,
       "text": [
        "inf"
       ]
      }
     ],
     "prompt_number": 1
    },
    {
     "cell_type": "code",
     "collapsed": false,
     "input": [
      "float(\"-inf\")"
     ],
     "language": "python",
     "metadata": {},
     "outputs": [
      {
       "metadata": {},
       "output_type": "pyout",
       "prompt_number": 2,
       "text": [
        "-inf"
       ]
      }
     ],
     "prompt_number": 2
    },
    {
     "cell_type": "markdown",
     "metadata": {},
     "source": [
      "Podemos introducir una variable `inf`:"
     ]
    },
    {
     "cell_type": "code",
     "collapsed": false,
     "input": [
      "inf = float(\"inf\")\n"
     ],
     "language": "python",
     "metadata": {},
     "outputs": [],
     "prompt_number": 3
    },
    {
     "cell_type": "code",
     "collapsed": false,
     "input": [
      "from intervalo_completo import Intervalo"
     ],
     "language": "python",
     "metadata": {},
     "outputs": [],
     "prompt_number": 4
    },
    {
     "cell_type": "code",
     "collapsed": false,
     "input": [
      "Intervalo(-inf, inf)"
     ],
     "language": "python",
     "metadata": {},
     "outputs": [
      {
       "html": [
        "[-&infin;, &infin;]"
       ],
       "latex": [
        "$[-inf^inf]$"
       ],
       "metadata": {},
       "output_type": "pyout",
       "prompt_number": 5,
       "text": [
        "Intervalo (-inf,inf)"
       ]
      }
     ],
     "prompt_number": 5
    },
    {
     "cell_type": "code",
     "collapsed": false,
     "input": [
      "-1. / inf"
     ],
     "language": "python",
     "metadata": {},
     "outputs": [
      {
       "metadata": {},
       "output_type": "pyout",
       "prompt_number": 6,
       "text": [
        "-0.0"
       ]
      }
     ],
     "prompt_number": 6
    },
    {
     "cell_type": "code",
     "collapsed": false,
     "input": [
      "1. / (-0.0)"
     ],
     "language": "python",
     "metadata": {},
     "outputs": [
      {
       "ename": "ZeroDivisionError",
       "evalue": "float division by zero",
       "output_type": "pyerr",
       "traceback": [
        "\u001b[0;31m---------------------------------------------------------------------------\u001b[0m\n\u001b[0;31mZeroDivisionError\u001b[0m                         Traceback (most recent call last)",
        "\u001b[0;32m<ipython-input-7-8018e1dbcc71>\u001b[0m in \u001b[0;36m<module>\u001b[0;34m()\u001b[0m\n\u001b[0;32m----> 1\u001b[0;31m \u001b[0;36m1.\u001b[0m \u001b[0;34m/\u001b[0m \u001b[0;34m(\u001b[0m\u001b[0;34m-\u001b[0m\u001b[0;36m0.0\u001b[0m\u001b[0;34m)\u001b[0m\u001b[0;34m\u001b[0m\u001b[0m\n\u001b[0m",
        "\u001b[0;31mZeroDivisionError\u001b[0m: float division by zero"
       ]
      }
     ],
     "prompt_number": 7
    },
    {
     "cell_type": "code",
     "collapsed": false,
     "input": [
      "inf"
     ],
     "language": "python",
     "metadata": {},
     "outputs": []
    },
    {
     "cell_type": "code",
     "collapsed": false,
     "input": [
      "x = 3"
     ],
     "language": "python",
     "metadata": {},
     "outputs": []
    },
    {
     "cell_type": "code",
     "collapsed": false,
     "input": [
      "x + inf"
     ],
     "language": "python",
     "metadata": {},
     "outputs": []
    },
    {
     "cell_type": "code",
     "collapsed": false,
     "input": [
      "x - inf"
     ],
     "language": "python",
     "metadata": {},
     "outputs": []
    },
    {
     "cell_type": "code",
     "collapsed": false,
     "input": [
      "-inf + inf"
     ],
     "language": "python",
     "metadata": {},
     "outputs": []
    },
    {
     "cell_type": "code",
     "collapsed": false,
     "input": [
      "-0 + 0"
     ],
     "language": "python",
     "metadata": {},
     "outputs": []
    },
    {
     "cell_type": "code",
     "collapsed": false,
     "input": [
      "-0 -0"
     ],
     "language": "python",
     "metadata": {},
     "outputs": []
    },
    {
     "cell_type": "code",
     "collapsed": false,
     "input": [
      "1/ (-inf)"
     ],
     "language": "python",
     "metadata": {},
     "outputs": []
    },
    {
     "cell_type": "code",
     "collapsed": false,
     "input": [
      "print _"
     ],
     "language": "python",
     "metadata": {},
     "outputs": []
    },
    {
     "cell_type": "code",
     "collapsed": false,
     "input": [],
     "language": "python",
     "metadata": {},
     "outputs": []
    },
    {
     "cell_type": "heading",
     "level": 1,
     "metadata": {},
     "source": [
      "Funciones de intervalos"
     ]
    },
    {
     "cell_type": "markdown",
     "metadata": {},
     "source": [
      "Es sutil hacer funciones con intervalos.\n",
      "Por ejemplo, consideremos\n",
      "$$f(x) = \\sqrt{x - x^2},$$ con $x \\in [0,1]$.\n",
      "\n",
      "El rango es \n",
      "$$R(f; [0,1]) = [0, \\textfrac{1}{2}}]$$\n",
      "\n",
      "Quisi\u00e9ramos llegar a este resultado haciendo operaciones interv\u00e1licas:\n",
      "\\begin{align}\n",
      "f([0,1]) &= \\sqrt{[0,1] - [0,1]^2}}\\\\\n",
      "&= \\sqrt{[0,1] - [0,1]} \\\\\n",
      "&= \\sqrt{[-1, 1]} \\\\\n",
      "&= \\sqrt{[0,1]} \\\\\n",
      "&= [0,1]\n",
      "\\end{align}\n",
      "Aqu\u00ed, *supusimos* que no pod\u00edamos tomar raices cuadradas de la parte negativa del intervalo $[-1,1]$.\n"
     ]
    },
    {
     "cell_type": "code",
     "collapsed": false,
     "input": [
      "from sympy import plot, symbols, sqrt"
     ],
     "language": "python",
     "metadata": {},
     "outputs": [],
     "prompt_number": 8
    },
    {
     "cell_type": "code",
     "collapsed": false,
     "input": [
      "x = symbols(\"x\")"
     ],
     "language": "python",
     "metadata": {},
     "outputs": [],
     "prompt_number": 9
    },
    {
     "cell_type": "code",
     "collapsed": false,
     "input": [
      "plot(sqrt(x - x**2))"
     ],
     "language": "python",
     "metadata": {},
     "outputs": [
      {
       "output_type": "stream",
       "stream": "stderr",
       "text": [
        "/usr/local/lib/python2.7/site-packages/mpl_toolkits/__init__.py:2: UserWarning: Module argparse was already imported from /usr/local/Cellar/python/2.7.5/Frameworks/Python.framework/Versions/2.7/lib/python2.7/argparse.pyc, but /usr/local/lib/python2.7/site-packages is being added to sys.path\n",
        "  __import__('pkg_resources').declare_namespace(__name__)\n",
        "/usr/local/lib/python2.7/site-packages/mpl_toolkits/__init__.py:2: UserWarning: Module IPython was already imported from /Users/dsanders/development/ipython/IPython/__init__.pyc, but /usr/local/lib/python2.7/site-packages is being added to sys.path\n",
        "  __import__('pkg_resources').declare_namespace(__name__)\n"
       ]
      },
      {
       "metadata": {},
       "output_type": "pyout",
       "prompt_number": 10,
       "text": [
        "<sympy.plotting.plot.Plot at 0x10e9d3850>"
       ]
      }
     ],
     "prompt_number": 10
    },
    {
     "cell_type": "code",
     "collapsed": false,
     "input": [],
     "language": "python",
     "metadata": {},
     "outputs": [],
     "prompt_number": 10
    }
   ],
   "metadata": {}
  }
 ]
}