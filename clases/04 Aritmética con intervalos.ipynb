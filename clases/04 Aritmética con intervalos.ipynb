{
 "metadata": {
  "name": ""
 },
 "nbformat": 3,
 "nbformat_minor": 0,
 "worksheets": [
  {
   "cells": [
    {
     "cell_type": "markdown",
     "metadata": {},
     "source": [
      "[Cf. notebook \"CautelaNumerica\"]"
     ]
    },
    {
     "cell_type": "markdown",
     "metadata": {},
     "source": [
      "El hombre lleg\u00f3 a la luna con Fortran 66!\n",
      "Sab\u00edan utilizar la m\u00e1quina sin cometer errores"
     ]
    },
    {
     "cell_type": "markdown",
     "metadata": {},
     "source": [
      "Sumar una constante un mont\u00f3n de veces:\n",
      "$$S = \\sum_{n=1}^N \\delta$$\n",
      "con $\\delta = 1/N$"
     ]
    },
    {
     "cell_type": "markdown",
     "metadata": {},
     "source": [
      "Deber\u00eda dar $1$ (matem\u00e1ticamente). El error crece (en promedio) c0nforme crece $N$.\n",
      "Esto se debe a errores de redondeo que empizan a acumular."
     ]
    },
    {
     "cell_type": "markdown",
     "metadata": {},
     "source": [
      "Expandir $(1-x)^6$ y evaluar num\u00e9ricamente cerca de $1$ esta versi\u00f3n y la versi\u00f3n con el polinomio expandido."
     ]
    },
    {
     "cell_type": "code",
     "collapsed": false,
     "input": [
      "from sympy import *\n",
      "x = symbols(\"x\")\n",
      "init_printing()"
     ],
     "language": "python",
     "metadata": {},
     "outputs": [],
     "prompt_number": 5
    },
    {
     "cell_type": "code",
     "collapsed": false,
     "input": [
      "s = (1-x)**6\n",
      "s.expand()"
     ],
     "language": "python",
     "metadata": {},
     "outputs": [
      {
       "latex": [
        "$$x^{6} - 6 x^{5} + 15 x^{4} - 20 x^{3} + 15 x^{2} - 6 x + 1$$"
       ],
       "metadata": {},
       "output_type": "pyout",
       "png": "[encoded data removed]",
       "prompt_number": 6,
       "text": [
        " 6      5       4       3       2          \n",
        "x  - 6\u22c5x  + 15\u22c5x  - 20\u22c5x  + 15\u22c5x  - 6\u22c5x + 1"
       ]
      }
     ],
     "prompt_number": 6
    },
    {
     "cell_type": "markdown",
     "metadata": {},
     "source": [
      "Estamos tomando *restas* con cosas que son muy *cercanas*."
     ]
    },
    {
     "cell_type": "markdown",
     "metadata": {},
     "source": [
      "A\u00fan si aumentamos la precisi\u00f3n, el problema persiste."
     ]
    },
    {
     "cell_type": "markdown",
     "metadata": {},
     "source": [
      "Las restas pueden tener p\u00e9rdidas de precisi\u00f3n brutal"
     ]
    },
    {
     "cell_type": "markdown",
     "metadata": {},
     "source": [
      "La gente ten\u00eda estos problemas mucho m\u00e1s presentes antes. (En parte por el poco poder de c\u00f3mputo que hab\u00eda.)"
     ]
    },
    {
     "cell_type": "markdown",
     "metadata": {},
     "source": [
      "Este tipo de c\u00e1lculos tienen problemas; ahorita no vamos a entrar en esto."
     ]
    },
    {
     "cell_type": "markdown",
     "metadata": {},
     "source": [
      "1er semestre: \"Cuando uno mide algo, hay un error.\"  Matem\u00e1ticamente queremos decir que algo \"existe\", pero que adem\u00e1s \"est\u00e1 aqu\u00ed\""
     ]
    },
    {
     "cell_type": "heading",
     "level": 2,
     "metadata": {},
     "source": [
      "Intervalos"
     ]
    },
    {
     "cell_type": "markdown",
     "metadata": {},
     "source": [
      "**Definici\u00f3n**: un *intervalo*  es\n",
      "$$A := [a] := [a, b] := \\{x: a \\le x \\le b \\}$$\n",
      "\n",
      "Los intervalos son *conjuntos*."
     ]
    },
    {
     "cell_type": "markdown",
     "metadata": {},
     "source": [
      "F\u00edsicamente: si $x$ es una cantidad f\u00edsica, $x = a_{\\text{med}} + \\delta a$, es decir\n",
      "$$ x \\in [a_\\text{med}] - \\delta a, a_{\\text{med}} + \\delta a], $$\n",
      "donde $a_\\text{med}$ es el valor medido y $\\delta$ es el *incertidumbre*."
     ]
    },
    {
     "cell_type": "markdown",
     "metadata": {},
     "source": [
      "Vamos a generalizar el concepto de n\u00famero al concepto de intervalos, y rehacer la aritm\u00e9tica para usar intervalos.\n",
      "\n",
      "En f\u00edsica, se ense\u00f1a a *propagar errores*. Vamos a extender esto lo m\u00e1s que podamos: *generalizar* el concepto de un n\u00famero real a hacer c\u00e1lculos con intervalos, incluyendo *todas* las operaciones.\n",
      "\n",
      "Luego nos interesar\u00e1n intervalos en $\\mathbb{R}^2$ etc.\n",
      "\n",
      "Dado que los intervalos son conjuntos, definiremos las operaciones sobre intervalos en t\u00e9rminos de operaciones sobre conjuntos.\n"
     ]
    },
    {
     "cell_type": "heading",
     "level": 3,
     "metadata": {},
     "source": [
      "Definiciones"
     ]
    },
    {
     "cell_type": "markdown",
     "metadata": {},
     "source": [
      "**Definici\u00f3n**:\n",
      "\n",
      "Un *intervalo* es\n",
      "$$A = [a] = [\\underline{a}, \\overline{a}] = \\{ \\underline{a} \\le x \\le \\overline{a} \\} $$\n",
      "\n",
      "*Igualdad* de intervalos:\n",
      "$$ [a] = [b] \\text{ si y s\u00f3lo si } \\underline{a} = \\underline{b} \\text{ y } \\overline{a} = \\overline{b}$$"
     ]
    },
    {
     "cell_type": "markdown",
     "metadata": {},
     "source": [
      "Un caso especial es cuando\n",
      "$$\\underline{a} = \\overline{a}.$$\n",
      "En este caso, podemos identificar $a = [a]$; decimos que $[a]$ es *degenerado*.\n",
      "Uno importante es $0 = [0, 0]$."
     ]
    },
    {
     "cell_type": "markdown",
     "metadata": {},
     "source": [
      "Definimos la *intersecci\u00f3n* de dos intervalos a trav\u00e9s de la interpretaci\u00f3n como conjuntos:\n",
      "$$[a] \\cap [b] = \\{ x: x \\in [a] \\text{ y } x \\in [b] \\}$$\n",
      "Esto tambi\u00e9n es un intervalo [FIG], siempre y cuando la intersecci\u00f3n no sea vac\u00eda $\\emptyset$:\n",
      "\n",
      "Si $[a] \\cap [b] \\neq \\emptyset$, entonces:\n",
      "\n",
      "$$[a] \\cap [b] := [\\max(\\underline{a}, \\underline{b}), \\min(\\overline{a}, \\overline{b})]$$"
     ]
    },
    {
     "cell_type": "markdown",
     "metadata": {},
     "source": [
      "Para la *uni\u00f3n*, hay que ser m\u00e1s cuidadoso, ya que no necesariamente es un intervalo:\n",
      "\n",
      "si $[a]$ y $[b]$ est\u00e1n separados, entonces hay puntos entre $\\overline{a}$ y $\\underline{b}$.\n",
      "\n",
      "Podemos en este caso definir el *intervalo hull* (envolvente de intervalos?):\n",
      "$$[a] \\underline{\\cup} [b] := [\\min(\\underline{a}, \\underline{b}), \\max(\\overline{a}, \\overline{b})]$$\n",
      "\n",
      "Si $[a] \\cup [b] \\neq \\emptyset$, entonces $[a] \\underline{\\cup} [b] = [a] \\cup [b]$."
     ]
    },
    {
     "cell_type": "markdown",
     "metadata": {},
     "source": [
      "Es com\u00fan en la f\u00edsica que tengamos que repetir muchas veces la misma medici\u00f3n."
     ]
    },
    {
     "cell_type": "heading",
     "level": 3,
     "metadata": {},
     "source": [
      "Operaciones entre intervalos"
     ]
    },
    {
     "cell_type": "markdown",
     "metadata": {},
     "source": [
      "\u00bfQu\u00e9 deber\u00edamos hacer para definir operaciones aritm\u00e9ticas entre intervalos? \u00bfQu\u00e9 es lo que nos va a guiar para proponer estas definiciones?\n",
      "\n",
      "Pensando en incertidumbres, queremos que el nuevo intervalo incluya *todos los resultados posibles* al operar con n\u00fameros en cada intervalo."
     ]
    },
    {
     "cell_type": "markdown",
     "metadata": {},
     "source": [
      "Por ejemplo:\n",
      "$$[a] + [b] = \\{ a+b: a \\in [a] \\text{ y } b \\in [b] \\}$$"
     ]
    },
    {
     "cell_type": "markdown",
     "metadata": {},
     "source": [
      "Tenemos \n",
      "$$\\underline{a} \\leq a \\leq \\overline{a} \\quad \\text{y} \\quad \\underline{b} \\leq b \\leq \\overline{b}.$$\n",
      "Por lo tanto, al sumar, tenemos\n",
      "$$\\underline{a}+\\underline{b} \\leq a+b \\leq \\overline{a}+\\overline{b},$$\n",
      "y por lo tanto\n",
      "$$[a] + [b] \\subseteq [\\underline{a}+\\underline{b}, \\overline{a}+\\overline{b}].$$\n",
      "\n",
      "Ahora, sea $x \\in [\\underline{a}+\\underline{b}, \\overline{a}+\\overline{b}]$, as\u00ed que\n",
      "$$\\underline{a}+\\underline{b} \\leq x \\leq \\overline{a}+\\overline{b}.$$\n",
      "Falta mostrar que existen $a \\in [a]$ y $b \\in [b]$ tal que $x = a+b$. **Ejercicio!**\n"
     ]
    },
    {
     "cell_type": "markdown",
     "metadata": {},
     "source": [
      "Resta:\n",
      "$$[a] - [b] := \\{ a-b: a \\in [a] \\text{ y } b \\in [b] \\}$$\n",
      "\n",
      "Tenemos\n",
      "$$\\underline{a} \\leq a \\leq \\overline{a} \\quad \\text{y} \\quad \\underline{b} \\leq b \\leq \\overline{b}.$$\n",
      "Por lo tanto,\n",
      "$$\\underline{a} - \\overline{b} \\leq a - b \\leq \\overline{a} - \\underline{b},$$\n",
      "o sea\n",
      "$$[a] - [b] = [\\underline{a} - \\overline{b}, \\overline{a} - \\underline{b}].$$\n"
     ]
    },
    {
     "cell_type": "markdown",
     "metadata": {},
     "source": [
      "Una sutileza: \u00bfcu\u00e1nto es $[a] - [a]$?\n",
      "$$[a] - [a] = [\\underline{a} - \\overline{a}, \\overline{a} - \\underline{a}] = [-(\\underline{a} - \\overline{a}), (\\underline{a} - \\overline{a})].$$\n",
      "As\u00ed que $[a] - [a] = 0$ s\u00f3lo si $\\overline{a} = \\underline{a}$, es decir, s\u00f3lo si $[a]$ es degenerado."
     ]
    },
    {
     "cell_type": "heading",
     "level": 3,
     "metadata": {},
     "source": [
      "Multiplicaci\u00f3n:"
     ]
    },
    {
     "cell_type": "markdown",
     "metadata": {},
     "source": [
      "$$[a] \\cdot [b] = \\{ a \\, b : a \\in [a] \\text{ y } b \\in [b] \\}.$$\n",
      "Tenemos\n",
      "$$[a] \\cdot [b] = [\\min(S), \\max(S)],$$\n",
      "donde\n",
      "$$S = \\{ \\underline{a} \\underline{b}, \\underline{a} \\overline{b}, \\overline{a} \\underline{b}, \\overline{a} \\overline{b} \\}.$$\n",
      "\n",
      "Para mostrar esto, hay que hacer los nueve casos posibles: \n",
      "(i) $0 \\leq \\underline{a}$ y $0 \\leq \\underline{b}$. Entonces $[a] \\cdot [b] = [\\underline{a} \\underline{b}, \\overline{a}, \\overline{b}]$.\n",
      "\n",
      "(ii) $\\overline{a} \\leq 0$ y $0 \\leq \\underline{b}$. Entonces $[a] \\cdot [b] = [\\overline{a} \\underline{b}, \\underline{a} \\overline{b}]$. \n",
      "\n",
      "(iii) $\\underline{a} < 0 < \\overline{a}$ y $0 \\leq \\underline{b}$ tiene $[a] \\cdot [b] = [\\underline{a} \\overline{b}, \\overline{a} \\overline{b}]$.\n",
      "\n",
      "(iv) $\\underline{a} < 0 < \\overline{a}$ y $\\underline{b} < 0 < \\overline{b}$. Entonces $[a] \\cdot [b] = [\\min(\\underline{a} \\overline{b}, \\overline{a} \\underline{b}), \\max(\\underline{a} \\underline{b}, \\overline{a} \\overline{b})].$\n",
      "\n",
      "Etc.!"
     ]
    },
    {
     "cell_type": "heading",
     "level": 3,
     "metadata": {},
     "source": [
      "Divisi\u00f3n"
     ]
    },
    {
     "cell_type": "markdown",
     "metadata": {},
     "source": [
      "$$\\frac{[a]}{[b]}  = [a] \\cdot \\frac{1}{[b]} = \\left \\{ \\frac{a}{b} : a \\in [a] \\text{ y } b \\in [b] \\text{ y } 0 \\notin [b] \\right \\},$$\n",
      "donde\n",
      "$$ \\frac{1}{[b]} = \\left[ \\frac{1}{\\overline{b}}, \\frac{1}{\\underline{b}} \\right]$$"
     ]
    },
    {
     "cell_type": "heading",
     "level": 2,
     "metadata": {},
     "source": [
      "Ejemplos"
     ]
    },
    {
     "cell_type": "markdown",
     "metadata": {},
     "source": [
      "$$[-2, 1] \\cdot [-1, 1] = [-2, 2]$$\n",
      "$$[-2, 4] \\cdot [-3, 1] = [-12, 6]$$\n",
      "$$\\frac{[1,2]}{[-5,-3]} = [1,2] \\cdot \\left [-\\textstyle \\frac{1}{3}, -\\textstyle \\frac{1}{5} \\right ] \n",
      "= [-\\textstyle \\frac{2}{3}, -\\frac{1}{5}]$$"
     ]
    },
    {
     "cell_type": "markdown",
     "metadata": {},
     "source": [
      "\"No es infinitamente imposible hacer esto\""
     ]
    },
    {
     "cell_type": "markdown",
     "metadata": {},
     "source": [
      "Una sutileza: la suma y el producto \u00bfson conmutativos?. S\u00ed!\n",
      "\n",
      "Son asociativas las operaciones?:\n",
      "$$[a] + ([b] + [c]) =([a] + [b]) + [c] ?$$\n",
      "S\u00ed!"
     ]
    },
    {
     "cell_type": "markdown",
     "metadata": {},
     "source": [
      "Pero, \u00bfson distributivas? Es decir,\n",
      "$$[a] \\cdot ([b] + [c]) = [a] \\cdot [b] + [a] \\cdot [c]?$$"
     ]
    },
    {
     "cell_type": "markdown",
     "metadata": {},
     "source": [
      "$$[-1,1] \\cdot ([-1, 0] + [3,4]) = [-1,1] \\cdot [2, 4] = [-4, 4]$$\n",
      "Pero\n",
      "$$[-1,1] \\cdot [-1, 0] + [-1, 1] \\cdot [3, 4] = [-1, 1] + [-4, 4] = [-5, 5]$$\n",
      "No hay distributividad! Es \"sub-distributiva\": \n",
      "$$[a] \\cdot ([b] + [c]) \\subseteq [a] \\cdot [b] + [a] \\cdot [c].$$"
     ]
    },
    {
     "cell_type": "code",
     "collapsed": false,
     "input": [],
     "language": "python",
     "metadata": {},
     "outputs": []
    }
   ],
   "metadata": {}
  }
 ]
}