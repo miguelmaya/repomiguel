{
 "metadata": {
  "name": "pawerlaw"
 },
 "nbformat": 3,
 "nbformat_minor": 0,
 "worksheets": [
  {
   "cells": [
    {
     "cell_type": "markdown",
     "metadata": {},
     "source": [
      "Aqu\u00ed voy a practicar como ajustar leyes de potencia en python\n",
      "La informaci\u00f3n la saqu\u00e9 de https://github.com/jeffalstott/powerlaw/"
     ]
    },
    {
     "cell_type": "markdown",
     "metadata": {},
     "source": [
      "Ya instale powerlar y mpmath desde la terminal con:\n",
      "    *$pip install powerlaw* y con\n",
      "    *$pip install mpmath* desde la terminal"
     ]
    },
    {
     "cell_type": "markdown",
     "metadata": {},
     "source": [
      "Los datos que voy a analizar son los de miguel/1paso/cdf/con3/tsizeb300it3.frq en calctop2"
     ]
    },
    {
     "cell_type": "code",
     "collapsed": false,
     "input": [
      "import powerlaw"
     ],
     "language": "python",
     "metadata": {},
     "outputs": []
    },
    {
     "cell_type": "code",
     "collapsed": false,
     "input": [
      "from numpy import *"
     ],
     "language": "python",
     "metadata": {},
     "outputs": [],
     "prompt_number": 11
    },
    {
     "cell_type": "code",
     "collapsed": false,
     "input": [
      "data =[100000,16715,6437,3324,2046,1370,983,729,573,454,366,307,252,216,192,172,156,137,120,109,100,90,84,74,66,60,52,48,45,39,36,33,30,29,28,26,23,21,18,16,15,14,13,12,11,10,9,8,7,6,5,4,3,2,1]"
     ],
     "language": "python",
     "metadata": {},
     "outputs": [],
     "prompt_number": 8
    },
    {
     "cell_type": "code",
     "collapsed": false,
     "input": [
      "data"
     ],
     "language": "python",
     "metadata": {},
     "outputs": [
      {
       "output_type": "pyout",
       "prompt_number": 35,
       "text": [
        "array([100000,  16715,   6437,   3324,   2046,   1370,    983,    729,\n",
        "          573,    454,    366,    307,    252,    216,    192,    172,\n",
        "          156,    137,    120,    109,    100,     90,     84,     74,\n",
        "           66,     60,     52,     48,     45,     39,     36,     33,\n",
        "           30,     29,     28,     26,     23,     21,     18,     16,\n",
        "           15,     14,     13,     12,     11,     10,      9,      8,\n",
        "            7,      6,      5,      4,      3,      2,      1])"
       ]
      }
     ],
     "prompt_number": 35
    },
    {
     "cell_type": "code",
     "collapsed": false,
     "input": [
      "type(data)"
     ],
     "language": "python",
     "metadata": {},
     "outputs": [
      {
       "output_type": "pyout",
       "prompt_number": 22,
       "text": [
        "numpy.ndarray"
       ]
      }
     ],
     "prompt_number": 22
    },
    {
     "cell_type": "code",
     "collapsed": false,
     "input": [
      "results = powerlaw.Fit(data)"
     ],
     "language": "python",
     "metadata": {},
     "outputs": [
      {
       "output_type": "stream",
       "stream": "stdout",
       "text": [
        "Calculating best minimal value for power law fit\n"
       ]
      }
     ],
     "prompt_number": 14
    },
    {
     "cell_type": "code",
     "collapsed": false,
     "input": [
      "print results.power_law.alpha"
     ],
     "language": "python",
     "metadata": {},
     "outputs": [
      {
       "output_type": "stream",
       "stream": "stdout",
       "text": [
        "1.37174857275\n"
       ]
      }
     ],
     "prompt_number": 15
    },
    {
     "cell_type": "code",
     "collapsed": false,
     "input": [
      "print results.power_law.xmin"
     ],
     "language": "python",
     "metadata": {},
     "outputs": [
      {
       "output_type": "stream",
       "stream": "stdout",
       "text": [
        "6\n"
       ]
      }
     ],
     "prompt_number": 16
    },
    {
     "cell_type": "code",
     "collapsed": false,
     "input": [
      "R, p = results.distribution_compare('power_law', 'lognormal')"
     ],
     "language": "python",
     "metadata": {},
     "outputs": [],
     "prompt_number": 28
    },
    {
     "cell_type": "code",
     "collapsed": false,
     "input": [
      "R, p"
     ],
     "language": "python",
     "metadata": {},
     "outputs": [
      {
       "output_type": "pyout",
       "prompt_number": 29,
       "text": [
        "(-2.5954130779250808, 0.18197315178111351)"
       ]
      }
     ],
     "prompt_number": 29
    },
    {
     "cell_type": "markdown",
     "metadata": {},
     "source": [
      "Al parecer no lo ajusta bien , voy a tomar el logaritmo de los datos a ver si as\u00ed lo hace bien"
     ]
    },
    {
     "cell_type": "code",
     "collapsed": false,
     "input": [
      "ldata = log(data)\n",
      "ldata"
     ],
     "language": "python",
     "metadata": {},
     "outputs": [
      {
       "output_type": "pyout",
       "prompt_number": 30,
       "text": [
        "array([ 11.51292546,   9.7240618 ,   8.76981787,   8.10892416,\n",
        "         7.62364195,   7.22256602,   6.89060912,   6.59167373,\n",
        "         6.35088572,   6.1180972 ,   5.90263333,   5.72684775,\n",
        "         5.52942909,   5.37527841,   5.25749537,   5.14749448,\n",
        "         5.04985601,   4.91998093,   4.78749174,   4.69134788,\n",
        "         4.60517019,   4.49980967,   4.4308168 ,   4.30406509,\n",
        "         4.18965474,   4.09434456,   3.95124372,   3.87120101,\n",
        "         3.80666249,   3.66356165,   3.58351894,   3.49650756,\n",
        "         3.40119738,   3.36729583,   3.33220451,   3.25809654,\n",
        "         3.13549422,   3.04452244,   2.89037176,   2.77258872,\n",
        "         2.7080502 ,   2.63905733,   2.56494936,   2.48490665,\n",
        "         2.39789527,   2.30258509,   2.19722458,   2.07944154,\n",
        "         1.94591015,   1.79175947,   1.60943791,   1.38629436,\n",
        "         1.09861229,   0.69314718,   0.        ])"
       ]
      }
     ],
     "prompt_number": 30
    },
    {
     "cell_type": "code",
     "collapsed": false,
     "input": [
      "lresults = powerlaw.Fit(ldata)"
     ],
     "language": "python",
     "metadata": {},
     "outputs": [
      {
       "output_type": "stream",
       "stream": "stdout",
       "text": [
        "Value 0 in data. Throwing out 0 values\n",
        "Calculating best minimal value for power law fit\n"
       ]
      }
     ],
     "prompt_number": 23
    },
    {
     "cell_type": "code",
     "collapsed": false,
     "input": [
      "print lresults.power_law.alpha"
     ],
     "language": "python",
     "metadata": {},
     "outputs": [
      {
       "output_type": "stream",
       "stream": "stdout",
       "text": [
        "4.15759956624\n"
       ]
      }
     ],
     "prompt_number": 24
    },
    {
     "cell_type": "code",
     "collapsed": false,
     "input": [
      "print lresults.power_law.xmin"
     ],
     "language": "python",
     "metadata": {},
     "outputs": [
      {
       "output_type": "stream",
       "stream": "stdout",
       "text": [
        "4.43081679884\n"
       ]
      }
     ],
     "prompt_number": 25
    },
    {
     "cell_type": "code",
     "collapsed": false,
     "input": [
      "lR, lp = lresults.distribution_compare('power_law', 'lognormal')"
     ],
     "language": "python",
     "metadata": {},
     "outputs": [],
     "prompt_number": 33
    },
    {
     "cell_type": "code",
     "collapsed": false,
     "input": [
      "lR, lp"
     ],
     "language": "python",
     "metadata": {},
     "outputs": [
      {
       "output_type": "pyout",
       "prompt_number": 34,
       "text": [
        "(-0.63924427021337316, 0.46442272143715968)"
       ]
      }
     ],
     "prompt_number": 34
    },
    {
     "cell_type": "code",
     "collapsed": false,
     "input": [
      "data2 =array([100000,16715,6437,3324,2046,1370,983,729,573,454,366,307,252,216,192,172,156,137,120,109])"
     ],
     "language": "python",
     "metadata": {},
     "outputs": [],
     "prompt_number": 37
    },
    {
     "cell_type": "code",
     "collapsed": false,
     "input": [
      "results2 =powerlaw.Fit(data2)"
     ],
     "language": "python",
     "metadata": {},
     "outputs": [
      {
       "output_type": "stream",
       "stream": "stdout",
       "text": [
        "Calculating best minimal value for power law fit\n"
       ]
      }
     ],
     "prompt_number": 38
    },
    {
     "cell_type": "code",
     "collapsed": false,
     "input": [
      "print results2.power_law.alpha"
     ],
     "language": "python",
     "metadata": {},
     "outputs": [
      {
       "output_type": "stream",
       "stream": "stdout",
       "text": [
        "1.63452623302\n"
       ]
      }
     ],
     "prompt_number": 39
    },
    {
     "cell_type": "markdown",
     "metadata": {},
     "source": [
      "Ahora voy a utilizar los datos de miguel/1paso/cdf/log/tsize150.frq "
     ]
    },
    {
     "cell_type": "code",
     "collapsed": false,
     "input": [
      "data3 = array([26661,4632,1257.625,398.4375,133.375,45.65625,16.171875,5.69921875,1.943359375])"
     ],
     "language": "python",
     "metadata": {},
     "outputs": [],
     "prompt_number": 41
    },
    {
     "cell_type": "code",
     "collapsed": false,
     "input": [
      "results3 = powerlaw.Fit(data3)"
     ],
     "language": "python",
     "metadata": {},
     "outputs": [
      {
       "output_type": "stream",
       "stream": "stdout",
       "text": [
        "Calculating best minimal value for power law fit\n"
       ]
      }
     ],
     "prompt_number": 42
    },
    {
     "cell_type": "code",
     "collapsed": false,
     "input": [
      "print results3.power_law.alpha"
     ],
     "language": "python",
     "metadata": {},
     "outputs": [
      {
       "output_type": "stream",
       "stream": "stdout",
       "text": [
        "1.22682140355\n"
       ]
      }
     ],
     "prompt_number": 43
    },
    {
     "cell_type": "code",
     "collapsed": false,
     "input": [
      "print results3.power_law.xmin"
     ],
     "language": "python",
     "metadata": {},
     "outputs": [
      {
       "output_type": "stream",
       "stream": "stdout",
       "text": [
        "1.943359375\n"
       ]
      }
     ],
     "prompt_number": 44
    },
    {
     "cell_type": "code",
     "collapsed": false,
     "input": [
      "R3, p3 = results3.distribution_compare('power_law', 'lognormal')"
     ],
     "language": "python",
     "metadata": {},
     "outputs": [],
     "prompt_number": 45
    },
    {
     "cell_type": "code",
     "collapsed": false,
     "input": [
      "R3, p3"
     ],
     "language": "python",
     "metadata": {},
     "outputs": [
      {
       "output_type": "pyout",
       "prompt_number": 46,
       "text": [
        "(-0.87402018760649547, 0.44881694230476277)"
       ]
      }
     ],
     "prompt_number": 46
    },
    {
     "cell_type": "markdown",
     "metadata": {},
     "source": []
    }
   ],
   "metadata": {}
  }
 ]
}