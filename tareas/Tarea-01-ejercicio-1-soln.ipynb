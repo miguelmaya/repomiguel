{
 "metadata": {
  "name": ""
 },
 "nbformat": 3,
 "nbformat_minor": 0,
 "worksheets": [
  {
   "cells": [
    {
     "cell_type": "heading",
     "level": 1,
     "metadata": {},
     "source": [
      "Tarea 1: Ejercicios de calentamiento con Python"
     ]
    },
    {
     "cell_type": "markdown",
     "metadata": {},
     "source": [
      "**REGLAS:**\n",
      "\n",
      "- Usa Python para llevar a cabo las tareas. [O julia...]\n",
      "\n",
      "- S\u00ed se permite el trabajo colaborativo, y de hecho se fomenta, pero se exige el uso de las neuronas de todos los que colaboren. Se vale entregar una sola tarea por grupo de 2 o (si es necesario) 3 personas.\n",
      "\n",
      "- La tarea se entrega como un *notebook* de IPython, y debe incluir notas, comentario y **TODO** lo est\u00e9ticamente necesario, que lo haga entendible para una tercer persona no involucrada en el curso. \n",
      "\n",
      "- Se recomienda usar una versi\u00f3n nueva de este mismo notebook, reemplazando *[Respuesta aqu\u00ed] por tu discusi\u00f3n, c\u00f3digo, y resultados (en los tipos de celda que convengan, y con el n\u00famero de ellos que haga falta).\n",
      "\n",
      "- Cambia el nombre del notebook para reflejar el nombre que escojan para su grupo de trabajo, e.g. \"Tarea-01-profes\"\n",
      "\n",
      "\n"
     ]
    },
    {
     "cell_type": "markdown",
     "metadata": {},
     "source": [
      "**1.** Implementa (con Python) el llamado \"m\u00e9todo Babil\u00f3nico\" para calcular la ra\u00edz cuadrada de un \n",
      "n\u00famero dado, $y$. Este m\u00e9todo consiste en la iteraci\u00f3n \n",
      "$ x_{n+1} = \\frac{1}{2} ( x_n + \\frac{y}{x_n}). $\n",
      "\n",
      "a. \u00bfCu\u00e1ndo se deber\u00eda terminar la iteracion?\n",
      "\n",
      "b. \u00bfCu\u00e1l es la convergencia del m\u00e9todo?\n",
      "\n",
      "c. Calcula, usando este m\u00e9todo, la ra\u00edz cuadrada de los n\u00fameros $0$ hasta $10$, en pasos de $0.1$.\n",
      "\n",
      "d. \u00bfQu\u00e9 ser\u00eda bueno \"poder hacer\" --y que a\u00fan no hemos aprendido-- con este c\u00f3digo para poderlo correr muchas veces sin tener que incluirlo expl\u00edcitamente?"
     ]
    },
    {
     "cell_type": "heading",
     "level": 3,
     "metadata": {},
     "source": [
      "Respuesta 1."
     ]
    },
    {
     "cell_type": "markdown",
     "metadata": {},
     "source": [
      "1.a) La iteraci\u00f3n deber\u00e1 acabar cuando la diferencia entre el cuadrado de $x_n$; $x_n^2$, y el n\u00famero $y$ al que le queremos calcular su ra\u00edz cuadrada, es menor a una cierta tolerancia que, depender\u00e1 de que tan \"neur\u00f3ticos\" queramos o necesitemos ser; de la precisi\u00f3n; esto es, cuando $|x_n^2-y|<\\epsilon$, tal que podamos pensar $x_n\\approx \\sqrt{y}$."
     ]
    },
    {
     "cell_type": "markdown",
     "metadata": {},
     "source": [
      "1.b) La convergencia del m\u00e9todo es cuadr\u00e1tica. Esto se puede demostrar formalmente o, de manera aproximada, geom\u00e9tricamente.\n",
      "En el caso del algoritmo `babil\u00f3nico` para encontrar la ra\u00edz cuadrada de un n\u00famero real positivo, la funci\u00f3n iterativa esta definida por $f(x_n):=x_n^2$, por lo tanto, $f'(x)=2x$, y $f''(x)=2\\ne0$. Utilizando el teorama 2.8, p\u00e1gina 80, del libro An\u00e1lisis Num\u00e9rico del autor Burden, podemos garantizar que la convergencia es cuadr\u00e1tica."
     ]
    },
    {
     "cell_type": "code",
     "collapsed": false,
     "input": [
      "# imports necesarios\n",
      "%matplotlib inline\n",
      "\n",
      "import numpy as  np\n",
      "from matplotlib import pyplot as plt"
     ],
     "language": "python",
     "metadata": {},
     "outputs": [],
     "prompt_number": 4
    },
    {
     "cell_type": "markdown",
     "metadata": {},
     "source": [
      "Calcular los valores de la iteraci\u00f3n:"
     ]
    },
    {
     "cell_type": "code",
     "collapsed": false,
     "input": [
      "iterados = []\n",
      "x_0=1.e10\n",
      "x = x_0\n",
      "\n",
      "meta = 2.\n",
      "tolerancia = 1e-15  # si ponemos 1e-16, nunca termina!\n",
      "\n",
      "while abs(x**2 - meta) > tolerancia:\n",
      "    x = 0.5 * (x + (meta/x))\n",
      "\n",
      "    iterados.append(x)\n",
      "        \n",
      "iterados = np.array(iterados)  # (casi) siempre conviene trabajar con arreglos de numpuy"
     ],
     "language": "python",
     "metadata": {},
     "outputs": [],
     "prompt_number": 19
    },
    {
     "cell_type": "code",
     "collapsed": false,
     "input": [
      "iterados"
     ],
     "language": "python",
     "metadata": {},
     "outputs": [
      {
       "metadata": {},
       "output_type": "pyout",
       "prompt_number": 20,
       "text": [
        "array([  5.00000000e+09,   2.50000000e+09,   1.25000000e+09,\n",
        "         6.25000000e+08,   3.12500000e+08,   1.56250000e+08,\n",
        "         7.81250000e+07,   3.90625000e+07,   1.95312500e+07,\n",
        "         9.76562500e+06,   4.88281250e+06,   2.44140625e+06,\n",
        "         1.22070313e+06,   6.10351563e+05,   3.05175781e+05,\n",
        "         1.52587891e+05,   7.62939453e+04,   3.81469727e+04,\n",
        "         1.90734864e+04,   9.53674323e+03,   4.76837172e+03,\n",
        "         2.38418607e+03,   1.19209345e+03,   5.96047566e+02,\n",
        "         2.98025461e+02,   1.49016086e+02,   7.45147536e+01,\n",
        "         3.72707970e+01,   1.86622291e+01,   9.38469874e+00,\n",
        "         4.79890580e+00,   2.60783373e+00,   1.68737690e+00,\n",
        "         1.43632427e+00,   1.41438375e+00,   1.41421357e+00,\n",
        "         1.41421356e+00])"
       ]
      }
     ],
     "prompt_number": 20
    },
    {
     "cell_type": "markdown",
     "metadata": {},
     "source": [
      "Posteriormente, guardamos estos datos en un archivo de texto que cargaremos como un arreglo. "
     ]
    },
    {
     "cell_type": "code",
     "collapsed": false,
     "input": [
      "errores = iterados - iterados[-1]  # error; usamos el ultimo valor calculado como el bueno\n",
      "# o podriamos usar el error de los cuadrados desde la meta\n",
      "\n",
      "errores"
     ],
     "language": "python",
     "metadata": {},
     "outputs": [
      {
       "metadata": {},
       "output_type": "pyout",
       "prompt_number": 21,
       "text": [
        "array([  5.00000000e+09,   2.50000000e+09,   1.25000000e+09,\n",
        "         6.24999999e+08,   3.12499999e+08,   1.56249999e+08,\n",
        "         7.81249986e+07,   3.90624986e+07,   1.95312486e+07,\n",
        "         9.76562359e+06,   4.88281109e+06,   2.44140484e+06,\n",
        "         1.22070171e+06,   6.10350148e+05,   3.05174367e+05,\n",
        "         1.52586476e+05,   7.62925311e+04,   3.81455585e+04,\n",
        "         1.90720721e+04,   9.53532902e+03,   4.76695751e+03,\n",
        "         2.38277186e+03,   1.19067924e+03,   5.94633353e+02,\n",
        "         2.96611247e+02,   1.47601872e+02,   7.31005400e+01,\n",
        "         3.58565834e+01,   1.72480156e+01,   7.97048517e+00,\n",
        "         3.38469224e+00,   1.19362017e+00,   2.73163334e-01,\n",
        "         2.21107114e-02,   1.70185649e-04,   1.02387898e-08,\n",
        "         0.00000000e+00])"
       ]
      }
     ],
     "prompt_number": 21
    },
    {
     "cell_type": "code",
     "collapsed": false,
     "input": [
      "plt.semilogy(errores, 'o')"
     ],
     "language": "python",
     "metadata": {},
     "outputs": [
      {
       "metadata": {},
       "output_type": "pyout",
       "prompt_number": 22,
       "text": [
        "[<matplotlib.lines.Line2D at 0x115945490>]"
       ]
      },
      {
       "metadata": {},
       "output_type": "display_data",
       "png": "[encoded data removed]",
       "text": [
        "<matplotlib.figure.Figure at 0x1158af1d0>"
       ]
      }
     ],
     "prompt_number": 22
    },
    {
     "cell_type": "code",
     "collapsed": false,
     "input": [
      "razones = errores[1:] / errores[:-1]\n",
      "razones"
     ],
     "language": "python",
     "metadata": {},
     "outputs": [
      {
       "metadata": {},
       "output_type": "pyout",
       "prompt_number": 23,
       "text": [
        "array([  5.00000000e-01,   5.00000000e-01,   4.99999999e-01,\n",
        "         4.99999999e-01,   4.99999998e-01,   4.99999995e-01,\n",
        "         4.99999991e-01,   4.99999982e-01,   4.99999964e-01,\n",
        "         4.99999928e-01,   4.99999855e-01,   4.99999710e-01,\n",
        "         4.99999421e-01,   4.99998841e-01,   4.99997683e-01,\n",
        "         4.99995366e-01,   4.99990732e-01,   4.99981464e-01,\n",
        "         4.99962927e-01,   4.99925854e-01,   4.99851709e-01,\n",
        "         4.99703418e-01,   4.99406836e-01,   4.98813674e-01,\n",
        "         4.97627361e-01,   4.95254829e-01,   4.90510513e-01,\n",
        "         4.81027860e-01,   4.62110272e-01,   4.24653225e-01,\n",
        "         3.52652498e-01,   2.28852813e-01,   8.09431890e-02,\n",
        "         7.69697756e-03,   6.01624746e-05,   0.00000000e+00])"
       ]
      }
     ],
     "prompt_number": 23
    },
    {
     "cell_type": "code",
     "collapsed": false,
     "input": [
      "plt.loglog(razones, 'o')"
     ],
     "language": "python",
     "metadata": {},
     "outputs": [
      {
       "metadata": {},
       "output_type": "pyout",
       "prompt_number": 24,
       "text": [
        "[<matplotlib.lines.Line2D at 0x115a07fd0>]"
       ]
      },
      {
       "metadata": {},
       "output_type": "display_data",
       "png": "[encoded data removed]",
       "text": [
        "<matplotlib.figure.Figure at 0x1158ae250>"
       ]
      }
     ],
     "prompt_number": 24
    },
    {
     "cell_type": "code",
     "collapsed": false,
     "input": [
      "plt.loglog(errores[:-1], errores[:-1], linewidth=2)\n",
      "#plt.loglog(errores[:-1], errores[:-1]**1.5, linewidth=2)\n",
      "plt.loglog(errores[:-1], errores[:-1]**2, linewidth=2)\n",
      "plt.loglog(errores[:-1], errores[1:], 'o', alpha=0.4, markerfacecolor=None)\n",
      "\n"
     ],
     "language": "python",
     "metadata": {},
     "outputs": [
      {
       "metadata": {},
       "output_type": "pyout",
       "prompt_number": 25,
       "text": [
        "[<matplotlib.lines.Line2D at 0x115a86f90>]"
       ]
      },
      {
       "metadata": {},
       "output_type": "display_data",
       "png": "[encoded data removed]",
       "text": [
        "<matplotlib.figure.Figure at 0x115a9a550>"
       ]
      }
     ],
     "prompt_number": 25
    }
   ],
   "metadata": {}
  }
 ]
}